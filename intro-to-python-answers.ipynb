{
 "cells": [
  {
   "cell_type": "markdown",
   "id": "58ed007d",
   "metadata": {
    "slideshow": {
     "slide_type": "slide"
    }
   },
   "source": [
    "# NPRE 100: Introduction to Python \n",
    "\n",
    "### Drs. Madicken Munk and April Novak\n"
   ]
  },
  {
   "cell_type": "markdown",
   "id": "fe03496c",
   "metadata": {},
   "source": [
    "Welcome to NPRE 100, Introduction to Python! Programming is an important skill you will continually build during your undergraduate program. In this lesson, you will learn:\n",
    "- Basic syntax of Python\n",
    "- How to find and use modules\n",
    "- How to use functions, loops, and more\n",
    "- How to make plots\n",
    "\n",
    "### How to Use Jupyter Notebooks\n",
    "\n",
    "This lesson is designed using Jupyter Notebooks, a web-based interactive computing platform. In this notebook, you will see a number of \"cells\" (gray boxes) where you will be writing Python code. Here are some tips for using Jupyter notebook:\n",
    "\n",
    "- To run each code cell, type \"Shift+Enter\". You can also click in the toolbar \"Cell\" -> \"Run Cells\"\n",
    "- To add a cell below your current cell, press \"Esc+b\".\n",
    "- To run all code cells up to and including the current cell, click in the toolbar \"Cell\" -> \"Run All Above\"\n",
    "- To run all code cells, click in the toolbar \"Cell\" -> \"Run All\"\n",
    "\n",
    "Some of the cells you will see contain text instead of Python code. This text is formatted in \"Markdown.\" If you want to add a text cell, type \"Esc+m\" to convert a cell into Markdown (text) form.\n",
    "\n",
    "In the NPRE 100 in-person class, we launched a Jupyter notebook using Binder. \n",
    "<span style=\"background-color: #FFFF00\">But for your assignment, please be sure to either [launch Jupyter notebook from the command line/terminal/shell](https://jupyter-notebook-beginner-guide.readthedocs.io/en/latest/execute.html) or work in a Python script file! Any work you do in the Binder will not be saved once you leave the Binder instance.</span>"
   ]
  },
  {
   "cell_type": "markdown",
   "id": "0631c135",
   "metadata": {
    "slideshow": {
     "slide_type": "subslide"
    }
   },
   "source": [
    "### Programming: the coolest calculator you'll ever have. And it's free! "
   ]
  },
  {
   "cell_type": "markdown",
   "id": "5fc5608a",
   "metadata": {},
   "source": [
    "What are some operators you'd expect to see on a calculator? Addition? subtraction? Multiplication and division? "
   ]
  },
  {
   "cell_type": "code",
   "execution_count": 118,
   "id": "fa955d8f",
   "metadata": {
    "slideshow": {
     "slide_type": "subslide"
    }
   },
   "outputs": [
    {
     "data": {
      "text/plain": [
       "12"
      ]
     },
     "execution_count": 118,
     "metadata": {},
     "output_type": "execute_result"
    },
    {
     "data": {
      "text/plain": [
       "12"
      ]
     },
     "execution_count": 118,
     "metadata": {},
     "output_type": "execute_result"
    }
   ],
   "source": [
    "3*4"
   ]
  },
  {
   "cell_type": "code",
   "execution_count": 119,
   "id": "41f64396",
   "metadata": {},
   "outputs": [
    {
     "data": {
      "text/plain": [
       "1"
      ]
     },
     "execution_count": 119,
     "metadata": {},
     "output_type": "execute_result"
    }
   ],
   "source": [
    "4-3"
   ]
  },
  {
   "cell_type": "code",
   "execution_count": null,
   "id": "45cee279",
   "metadata": {},
   "outputs": [],
   "source": [
    "2+3"
   ]
  },
  {
   "cell_type": "code",
   "execution_count": null,
   "id": "935183fb",
   "metadata": {},
   "outputs": [],
   "source": [
    "1/2"
   ]
  },
  {
   "cell_type": "markdown",
   "id": "512c2b1b",
   "metadata": {},
   "source": [
    "We can also print useful messages in our scripts that make things more readable"
   ]
  },
  {
   "cell_type": "code",
   "execution_count": null,
   "id": "6d494bc2",
   "metadata": {
    "slideshow": {
     "slide_type": "subslide"
    }
   },
   "outputs": [],
   "source": [
    "print(\"Hello world!\")"
   ]
  },
  {
   "cell_type": "markdown",
   "id": "9614fc55",
   "metadata": {},
   "source": [
    "Another useful feature of Python, like all programming languages, is \"comments\" - lines you can add to your code which do not get executed, typically used to document and explain the code. In Python, single-line comments begin with `#`."
   ]
  },
  {
   "cell_type": "code",
   "execution_count": null,
   "id": "262f2271",
   "metadata": {},
   "outputs": [],
   "source": [
    "# This is a comment\n",
    "print(\"I love NPRE\") # This is also a comment"
   ]
  },
  {
   "cell_type": "markdown",
   "id": "e1c8b2fd",
   "metadata": {},
   "source": [
    "A comment does not always need to be text describing the code - it can be used to prevent a code line from executing"
   ]
  },
  {
   "cell_type": "code",
   "execution_count": null,
   "id": "39a88b3a",
   "metadata": {},
   "outputs": [],
   "source": [
    "#print(\"hmmmm\")"
   ]
  },
  {
   "cell_type": "markdown",
   "id": "23929164",
   "metadata": {},
   "source": [
    "New lines are very important in Python - every line in a Python program is interpreted as an instruction. In other programming languages, such as C++, instructions are instead denoted using some symbol at the end of each instruction (such as a `;`). If you want to write an instruction over multiple lines, you will need to use a special character, `\\`."
   ]
  },
  {
   "cell_type": "code",
   "execution_count": null,
   "id": "615103c4",
   "metadata": {},
   "outputs": [],
   "source": [
    "# Python will try to run this as two instructions, but the formatting is not quite right, so you will get an error!\n",
    "print(\"This is a longer message which is so long\n",
    "that I want it to extend over multiple lines\")"
   ]
  },
  {
   "cell_type": "code",
   "execution_count": null,
   "id": "0285e763",
   "metadata": {},
   "outputs": [],
   "source": [
    "# Instead, use \\ to indicate a line break\n",
    "print(\"This is a longer message which is so long \\\n",
    "that I want it to extend over multiple lines\")"
   ]
  },
  {
   "cell_type": "markdown",
   "id": "6018abaa",
   "metadata": {},
   "source": [
    "Indentation is also very important in Python - it is used to define something called \"scope,\" when you are \"inside\" functions, loops, classes, etc. In other programming languages, spaces are often used just for clarity."
   ]
  },
  {
   "cell_type": "code",
   "execution_count": null,
   "id": "97be826b",
   "metadata": {},
   "outputs": [],
   "source": [
    "print(\"hi\")\n",
    "  print(\"there\")"
   ]
  },
  {
   "cell_type": "markdown",
   "id": "6745a9cf",
   "metadata": {
    "slideshow": {
     "slide_type": "subslide"
    }
   },
   "source": [
    "Words, numbers, and calculations are useful, but what’s more useful are the sentences and stories we build with them. Similarly, while a lot of powerful, general tools are built into Python, specialized tools built up from these basic units live in libraries that can be called upon when needed.\n",
    "\n",
    "Importing a library is like getting a piece of lab equipment out of a storage locker and setting it up on the bench. Libraries provide additional functionality to the basic Python package, much like a new piece of equipment adds functionality to a lab space. Just like in the lab, importing too many libraries can sometimes complicate and slow down your programs - so we only import what we need for each program.\n",
    "\n",
    "### How to figure out what libraries to import?\n",
    "\n",
    "With so many users and developers of Python around the world, there are many many libraries available. One way to search for a desired feature is via Google or your favorite search engine. For example, if I would like a library which can sample random numbers for me, I would first try googling \"python random number generator.\" Another way to search is through the [Python Package Index](https://pypi.org). "
   ]
  },
  {
   "cell_type": "code",
   "execution_count": 125,
   "id": "eb57b3f4",
   "metadata": {},
   "outputs": [],
   "source": [
    "import Joking"
   ]
  },
  {
   "cell_type": "code",
   "execution_count": 126,
   "id": "dcbafb4c",
   "metadata": {},
   "outputs": [
    {
     "name": "stdout",
     "output_type": "stream",
     "text": [
      "My boss told me that he was going to fire the person with the worst posture. I have a hunch, it might be me.\n"
     ]
    }
   ],
   "source": [
    "print(Joking.random_dad_joke())"
   ]
  },
  {
   "cell_type": "code",
   "execution_count": 304,
   "id": "f27637d2",
   "metadata": {
    "slideshow": {
     "slide_type": "fragment"
    }
   },
   "outputs": [],
   "source": [
    "# These are a few more useful packages we'll be using today in this lesson\n",
    "import numpy as np \n",
    "import math"
   ]
  },
  {
   "cell_type": "markdown",
   "id": "42bfe8e5",
   "metadata": {
    "slideshow": {
     "slide_type": "subslide"
    }
   },
   "source": [
    "### Using Modules\n",
    "\n",
    "So what does this give us? Well, we have a huge amount of knowledge at our fingertips that we don't need to program any more! And it's written by experts. \n",
    "\n",
    "Modules contain variables, functions, and classes - to access them, you will need to use a period (`.`) between the module name you imported, and the variable/function/class you want to access. For instance, `math.pi` will use the variable `pi` in the `math` module."
   ]
  },
  {
   "cell_type": "code",
   "execution_count": null,
   "id": "ac83d1f0",
   "metadata": {
    "slideshow": {
     "slide_type": "fragment"
    }
   },
   "outputs": [],
   "source": [
    "# let's print the value of pi from the math module\n",
    "print(pi)"
   ]
  },
  {
   "cell_type": "markdown",
   "id": "3310f135",
   "metadata": {},
   "source": [
    "When using variables/functions/classes, remember that we need to insert a `.` between the module name and the variable/function/class. In the whole wide world of Python, it's impossible to guarantee that there will only be one single `pi` variable defined across all modules in existence - so to avoid clashes, we need to use a `.` to indicate that we are referring to `pi` from the `math` library."
   ]
  },
  {
   "cell_type": "code",
   "execution_count": null,
   "id": "474f491f",
   "metadata": {},
   "outputs": [],
   "source": [
    "# This is the correct way to get the pi variable from the math library\n",
    "print(math.pi)"
   ]
  },
  {
   "cell_type": "code",
   "execution_count": null,
   "id": "578e6966",
   "metadata": {
    "slideshow": {
     "slide_type": "fragment"
    }
   },
   "outputs": [],
   "source": [
    "# let's see if we just let whatever is returned from a function \n",
    "# be returned in the notebook. Maybe exp()? \n",
    "math.exp(2.0)"
   ]
  },
  {
   "cell_type": "markdown",
   "id": "3d9d19bb",
   "metadata": {
    "slideshow": {
     "slide_type": "slide"
    }
   },
   "source": [
    "ok! I've convinced you that there are some useful things that you can do. Let's go over some Python basics to get you all started\n",
    "\n",
    "### Variables\n",
    "\n",
    "You just saw me do some small calculations with Python, but what if I want to save information to use later? We do that using **variables**. To create a variable in python, we use an equals sign. The characters to the left are the name of the variable, and the expression on the right is its value. "
   ]
  },
  {
   "cell_type": "code",
   "execution_count": null,
   "id": "3dcae127",
   "metadata": {
    "slideshow": {
     "slide_type": "fragment"
    }
   },
   "outputs": [],
   "source": [
    "# create a variable called `my_variable`\n",
    "my_variable = 3"
   ]
  },
  {
   "cell_type": "code",
   "execution_count": null,
   "id": "572e245c",
   "metadata": {},
   "outputs": [],
   "source": [
    "# print the variable\n",
    "print(my_variable)"
   ]
  },
  {
   "cell_type": "markdown",
   "id": "aad993bd",
   "metadata": {
    "slideshow": {
     "slide_type": "subslide"
    }
   },
   "source": [
    "From now on, when I call `my_variable` with Python, it knows to return the value of the variable. That is, 3.0. \n",
    "\n",
    "In Python, variable names:\n",
    "\n",
    "* can include letters, digits, and underscores\n",
    "* cannot start with a digit\n",
    "* are case sensitive.\n",
    "\n",
    "But be careful! We can easily overwrite variables too. What happens if I assign a new value to a variable with the same name? "
   ]
  },
  {
   "cell_type": "code",
   "execution_count": null,
   "id": "dcf69f03",
   "metadata": {},
   "outputs": [],
   "source": [
    "my_variable"
   ]
  },
  {
   "cell_type": "code",
   "execution_count": null,
   "id": "f41529d5",
   "metadata": {
    "slideshow": {
     "slide_type": "fragment"
    }
   },
   "outputs": [],
   "source": [
    "my_variable = 6\n",
    "my_variable"
   ]
  },
  {
   "cell_type": "markdown",
   "id": "a0c84399",
   "metadata": {
    "slideshow": {
     "slide_type": "subslide"
    }
   },
   "source": [
    "# Discussion: What do you think this means when you choose to name your variables? \n",
    "\n",
    "Use meaningful names that are detailed enough to not conflict with other variables in your program."
   ]
  },
  {
   "cell_type": "markdown",
   "id": "2dc6c81a",
   "metadata": {
    "slideshow": {
     "slide_type": "subslide"
    }
   },
   "source": [
    "We can also perform operations on variables: "
   ]
  },
  {
   "cell_type": "code",
   "execution_count": null,
   "id": "1775c04f",
   "metadata": {
    "slideshow": {
     "slide_type": "fragment"
    }
   },
   "outputs": [],
   "source": [
    "# make a new variable and print both\n",
    "another_variable = 1\n",
    "print(another_variable)\n",
    "print(my_variable)"
   ]
  },
  {
   "cell_type": "markdown",
   "id": "f8857853",
   "metadata": {
    "slideshow": {
     "slide_type": "subslide"
    }
   },
   "source": [
    "Or even modify a variable in place:"
   ]
  },
  {
   "cell_type": "code",
   "execution_count": null,
   "id": "76164e47",
   "metadata": {
    "slideshow": {
     "slide_type": "fragment"
    }
   },
   "outputs": [],
   "source": [
    "# add a variable in place to `my_variable`\n",
    "my_variable = my_variable + another_variable"
   ]
  },
  {
   "cell_type": "code",
   "execution_count": null,
   "id": "b3a53cc3",
   "metadata": {
    "slideshow": {
     "slide_type": "fragment"
    }
   },
   "outputs": [],
   "source": [
    "# now let's print the new value of `my_variable`\n",
    "my_variable"
   ]
  },
  {
   "cell_type": "markdown",
   "id": "7b55ae8e",
   "metadata": {
    "slideshow": {
     "slide_type": "slide"
    }
   },
   "source": [
    "# Data Types in Python \n",
    "\n",
    "ok! So now we know how to do some simple operations and store some of our computations as variables. However, there have been a few different things we've seen. Letters and numbers. "
   ]
  },
  {
   "cell_type": "code",
   "execution_count": null,
   "id": "74a3090b",
   "metadata": {
    "slideshow": {
     "slide_type": "subslide"
    }
   },
   "outputs": [],
   "source": [
    "# Strings can be defined using either single or double quotes\n",
    "my_variable = 'I love cats!'\n",
    "print(my_variable)"
   ]
  },
  {
   "cell_type": "code",
   "execution_count": null,
   "id": "b0472ae0",
   "metadata": {},
   "outputs": [],
   "source": [
    "type(my_variable)"
   ]
  },
  {
   "cell_type": "code",
   "execution_count": null,
   "id": "7cd49270",
   "metadata": {},
   "outputs": [],
   "source": [
    "# Strings can be defined using either single or double quotes\n",
    "my_variable = \"I love cats!\"\n",
    "print(my_variable)"
   ]
  },
  {
   "cell_type": "code",
   "execution_count": null,
   "id": "4807d4eb",
   "metadata": {},
   "outputs": [],
   "source": [
    "my_variable = \"April's favorite season is fall\"\n",
    "print(my_variable)"
   ]
  },
  {
   "cell_type": "code",
   "execution_count": null,
   "id": "4380b590",
   "metadata": {
    "slideshow": {
     "slide_type": "subslide"
    }
   },
   "outputs": [],
   "source": [
    "# Integers\n",
    "my_variable = 345\n",
    "type(my_variable)"
   ]
  },
  {
   "cell_type": "code",
   "execution_count": null,
   "id": "11ce1316",
   "metadata": {
    "slideshow": {
     "slide_type": "subslide"
    }
   },
   "outputs": [],
   "source": [
    "# Floats\n",
    "my_variable = 1.23\n",
    "type(my_variable)"
   ]
  },
  {
   "cell_type": "code",
   "execution_count": null,
   "id": "5cc489dd",
   "metadata": {},
   "outputs": [],
   "source": [
    "# Booleans (true or false)\n",
    "my_variable = True\n",
    "type(my_variable)"
   ]
  },
  {
   "cell_type": "markdown",
   "id": "8675b9b8",
   "metadata": {},
   "source": [
    "In Python, you can change the \"type\" of a variable after you've already set it to some other type. Above, we defined `my_variable` to be a string, then changed it to an integer, then changed it to a float.\n",
    "\n",
    "\n",
    "### Some Built-In Collections\n",
    "\n",
    "Python contains many other data types aside from the basics of strings, booleans, floats, etc. Let's explore lists, dictionaries, sets, and tuples -- types used to store collections of data. Below is a summary of the important characteristics of these built-in collection types.\n",
    "\n",
    "|                    | Lists     | Dictionaries                 | Sets      | Tuples    |\n",
    "|--------------------|-----------|------------------------------|-----------|-----------|\n",
    "| Ordered?           | Yes       | No                           | No        | Yes       |\n",
    "| Changeable?        | Yes       | Yes                          | No        | No        |\n",
    "| Duplicate members? | Yes       | No                           | No        | Yes       |\n",
    "| Syntax             | [a, b, c] | {key1: value1, key2: value2} | {a, b, c} | (a, b, c) |\n",
    "\n",
    "\n",
    "Let's start with lists, which are used to store multiple values into a single variable. They are *ordered*, changeable, and allow multiple types and repeated values. Lists are created using square brackets."
   ]
  },
  {
   "cell_type": "code",
   "execution_count": null,
   "id": "0671398e",
   "metadata": {
    "slideshow": {
     "slide_type": "subslide"
    }
   },
   "outputs": [],
   "source": [
    "# Lists (can be comprised of integers, floats, strings, bools)\n",
    "my_list = [\"apple\", \"uranium\", 2.5, 3]"
   ]
  },
  {
   "cell_type": "code",
   "execution_count": null,
   "id": "dd8d32c8",
   "metadata": {},
   "outputs": [],
   "source": [
    "# Lists can be accessed with the index. Let's see what the value of \n",
    "# the 0th item in the list is\n",
    "my_list[0]"
   ]
  },
  {
   "cell_type": "code",
   "execution_count": null,
   "id": "0fa41c40",
   "metadata": {},
   "outputs": [],
   "source": [
    "my_list[1]"
   ]
  },
  {
   "cell_type": "code",
   "execution_count": null,
   "id": "bc31278a",
   "metadata": {},
   "outputs": [],
   "source": [
    "my_list[2]"
   ]
  },
  {
   "cell_type": "code",
   "execution_count": null,
   "id": "5dbee90b",
   "metadata": {},
   "outputs": [],
   "source": [
    "# We can change the value of an entry in a list\n",
    "my_list[1] = \"plutonium\"\n",
    "print(my_list)"
   ]
  },
  {
   "cell_type": "code",
   "execution_count": null,
   "id": "f3165996",
   "metadata": {},
   "outputs": [],
   "source": [
    "# We can add entries to a list (note that we are adding a duplicate entry!)\n",
    "my_list.append(\"plutonium\")\n",
    "print(my_list)"
   ]
  },
  {
   "cell_type": "code",
   "execution_count": 123,
   "id": "72855cba",
   "metadata": {},
   "outputs": [
    {
     "name": "stdout",
     "output_type": "stream",
     "text": [
      "4\n"
     ]
    }
   ],
   "source": [
    "# We can get the length of a list\n",
    "print(len(my_list))"
   ]
  },
  {
   "cell_type": "code",
   "execution_count": null,
   "id": "c5de3652",
   "metadata": {},
   "outputs": [],
   "source": [
    "# We can also remove items from a list\n",
    "my_list.pop(2)\n",
    "print(my_list)"
   ]
  },
  {
   "cell_type": "markdown",
   "id": "202cf692",
   "metadata": {},
   "source": [
    "Dictionaries are used to store data in key, value pairs. They are ordered, changeable, and do not allow duplicates. Dictionaries are created using curly brackets, using a comma-separated series of key, value pairs."
   ]
  },
  {
   "cell_type": "code",
   "execution_count": 88,
   "id": "1a337cb8",
   "metadata": {
    "slideshow": {
     "slide_type": "subslide"
    }
   },
   "outputs": [],
   "source": [
    "# dictionaries\n",
    "uranium_dictionary = {\"isotopes\" : [233, 235, 238], \\\n",
    "                     \"year_discovered\" : 1789, \\\n",
    "                     \"dollars_per_kg\" : 135.3}"
   ]
  },
  {
   "cell_type": "code",
   "execution_count": 89,
   "id": "305f0b2c",
   "metadata": {},
   "outputs": [
    {
     "name": "stdout",
     "output_type": "stream",
     "text": [
      "{'isotopes': [233, 235, 238], 'year_discovered': 1789, 'dollars_per_kg': 135.3}\n"
     ]
    }
   ],
   "source": [
    "print(uranium_dictionary)"
   ]
  },
  {
   "cell_type": "code",
   "execution_count": 92,
   "id": "a199f85a",
   "metadata": {},
   "outputs": [
    {
     "name": "stdout",
     "output_type": "stream",
     "text": [
      "[233, 235, 238]\n"
     ]
    }
   ],
   "source": [
    "# We just talked about accessing with a list. What do you think \n",
    "# accessing with a dict looks like? \n",
    "print(uranium_dictionary[\"isotopes\"])"
   ]
  },
  {
   "cell_type": "code",
   "execution_count": 93,
   "id": "e401d03b",
   "metadata": {},
   "outputs": [
    {
     "name": "stdout",
     "output_type": "stream",
     "text": [
      "235\n"
     ]
    }
   ],
   "source": [
    "print(uranium_dictionary[\"isotopes\"][1])"
   ]
  },
  {
   "cell_type": "code",
   "execution_count": 95,
   "id": "618e3538",
   "metadata": {},
   "outputs": [
    {
     "name": "stdout",
     "output_type": "stream",
     "text": [
      "{'isotopes': [233, 235, 238], 'year_discovered': 1789, 'dollars_per_kg': 125.9}\n"
     ]
    }
   ],
   "source": [
    "# Let's change the value of the `dollars_per_kg` key\n",
    "uranium_dictionary[\"dollars_per_kg\"] = 125.9\n",
    "print(uranium_dictionary)"
   ]
  },
  {
   "cell_type": "markdown",
   "id": "8ea1e4d7",
   "metadata": {},
   "source": [
    "Sets are used to store collections of data which are unordered and do not allow repeated entries. Sets are also created using curly brackets, but are different from dictionaries in that they do not use key, value pairs."
   ]
  },
  {
   "cell_type": "code",
   "execution_count": 97,
   "id": "5f049fc8",
   "metadata": {},
   "outputs": [],
   "source": [
    "months = {\"January\", \"February\", \"March\"}"
   ]
  },
  {
   "cell_type": "code",
   "execution_count": 98,
   "id": "b0ff8e8f",
   "metadata": {},
   "outputs": [
    {
     "name": "stdout",
     "output_type": "stream",
     "text": [
      "{'February', 'January', 'March'}\n"
     ]
    }
   ],
   "source": [
    "print(months)"
   ]
  },
  {
   "cell_type": "code",
   "execution_count": 100,
   "id": "f2492bbf",
   "metadata": {},
   "outputs": [
    {
     "ename": "AttributeError",
     "evalue": "'set' object has no attribute 'append'",
     "output_type": "error",
     "traceback": [
      "\u001b[0;31m---------------------------------------------------------------------------\u001b[0m",
      "\u001b[0;31mAttributeError\u001b[0m                            Traceback (most recent call last)",
      "Cell \u001b[0;32mIn[100], line 2\u001b[0m\n\u001b[1;32m      1\u001b[0m \u001b[38;5;66;03m# Sets cannot be changed after they are created\u001b[39;00m\n\u001b[0;32m----> 2\u001b[0m \u001b[43mmonths\u001b[49m\u001b[38;5;241;43m.\u001b[39;49m\u001b[43mappend\u001b[49m(\u001b[38;5;124m\"\u001b[39m\u001b[38;5;124mApril\u001b[39m\u001b[38;5;124m\"\u001b[39m)\n",
      "\u001b[0;31mAttributeError\u001b[0m: 'set' object has no attribute 'append'"
     ]
    }
   ],
   "source": [
    "# Sets cannot be changed after they are created\n",
    "months.append(\"April\")"
   ]
  },
  {
   "cell_type": "code",
   "execution_count": 103,
   "id": "4583e6a7",
   "metadata": {},
   "outputs": [
    {
     "name": "stdout",
     "output_type": "stream",
     "text": [
      "{1, 2, 5}\n"
     ]
    }
   ],
   "source": [
    "# Duplicate entries are not allowed\n",
    "my_set = {1, 2, 5, 1}\n",
    "print(my_set)"
   ]
  },
  {
   "cell_type": "markdown",
   "id": "c37583de",
   "metadata": {},
   "source": [
    "### Arrays\n",
    "\n",
    "Python does not have a built-in array data type, but Python lists can be used instead. But, they are slow to process and don't have all the convenience features we may want. \n",
    "\n",
    "Instead, you can use an array type defined by the `numpy` library. `numpy` is short for \"numerical Python,\" and contains many useful features for arrays (as well as lots of other useful functionality for linear algebra, matrices, and more)."
   ]
  },
  {
   "cell_type": "code",
   "execution_count": 128,
   "id": "0a4da723",
   "metadata": {
    "slideshow": {
     "slide_type": "subslide"
    }
   },
   "outputs": [
    {
     "ename": "NameError",
     "evalue": "name 'numpy' is not defined",
     "output_type": "error",
     "traceback": [
      "\u001b[0;31m---------------------------------------------------------------------------\u001b[0m",
      "\u001b[0;31mNameError\u001b[0m                                 Traceback (most recent call last)",
      "Cell \u001b[0;32mIn[128], line 2\u001b[0m\n\u001b[1;32m      1\u001b[0m \u001b[38;5;66;03m# our first numpy array\u001b[39;00m\n\u001b[0;32m----> 2\u001b[0m my_array \u001b[38;5;241m=\u001b[39m \u001b[43mnumpy\u001b[49m\u001b[38;5;241m.\u001b[39marray([\u001b[38;5;241m1\u001b[39m, \u001b[38;5;241m3\u001b[39m, \u001b[38;5;241m5\u001b[39m, \u001b[38;5;241m7\u001b[39m])\n",
      "\u001b[0;31mNameError\u001b[0m: name 'numpy' is not defined"
     ]
    }
   ],
   "source": [
    "# our first numpy array\n",
    "my_array = numpy.array([1, 3, 5, 7])"
   ]
  },
  {
   "cell_type": "code",
   "execution_count": 134,
   "id": "90e1da1b",
   "metadata": {},
   "outputs": [
    {
     "name": "stdout",
     "output_type": "stream",
     "text": [
      "[1 3 5 7]\n"
     ]
    }
   ],
   "source": [
    "# Don't forget that we imported the numpy module under a shorthand name, np. This is called an \"alias\"\n",
    "my_1d_array = np.array([1, 3, 5, 7])\n",
    "print(my_1d_array)"
   ]
  },
  {
   "cell_type": "markdown",
   "id": "4c3ba224",
   "metadata": {},
   "source": [
    "To create a numpy array, we can pass a list, tuple, or other array-type object to `np.array()`. Above, we used a list. Numpy arrays can be of different \"dimensions\" - 0D arrays (scalars), 1D arrays (vectors), 2D arrays (tensors), etc."
   ]
  },
  {
   "cell_type": "code",
   "execution_count": 132,
   "id": "e0384bc0",
   "metadata": {},
   "outputs": [
    {
     "name": "stdout",
     "output_type": "stream",
     "text": [
      "[[1 2 3]\n",
      " [4 5 6]]\n"
     ]
    }
   ],
   "source": [
    "my_2d_array = np.array([[1, 2, 3], [4, 5, 6]])\n",
    "print(my_2d_array)"
   ]
  },
  {
   "cell_type": "code",
   "execution_count": 133,
   "id": "3a922c19",
   "metadata": {},
   "outputs": [
    {
     "name": "stdout",
     "output_type": "stream",
     "text": [
      "9\n"
     ]
    }
   ],
   "source": [
    "my_0d_array = np.array(9)\n",
    "print(my_0d_array)"
   ]
  },
  {
   "cell_type": "markdown",
   "id": "92864b38",
   "metadata": {},
   "source": [
    "Accessing entries in a numpy array is similar to accessing entries in a list."
   ]
  },
  {
   "cell_type": "code",
   "execution_count": 135,
   "id": "afa7e2e8",
   "metadata": {},
   "outputs": [
    {
     "name": "stdout",
     "output_type": "stream",
     "text": [
      "3\n"
     ]
    }
   ],
   "source": [
    "print(my_1d_array[1])"
   ]
  },
  {
   "cell_type": "code",
   "execution_count": 138,
   "id": "ea37d41f",
   "metadata": {},
   "outputs": [
    {
     "name": "stdout",
     "output_type": "stream",
     "text": [
      "4\n"
     ]
    }
   ],
   "source": [
    "print(my_2d_array[1,0])"
   ]
  },
  {
   "cell_type": "markdown",
   "id": "b5f9fe23",
   "metadata": {},
   "source": [
    "We can use negative indices to access an array \"backwards.\""
   ]
  },
  {
   "cell_type": "code",
   "execution_count": 139,
   "id": "45d0dfea",
   "metadata": {},
   "outputs": [
    {
     "name": "stdout",
     "output_type": "stream",
     "text": [
      "[1 3 5 7]\n"
     ]
    }
   ],
   "source": [
    "print(my_1d_array)"
   ]
  },
  {
   "cell_type": "code",
   "execution_count": 140,
   "id": "b0b44293",
   "metadata": {},
   "outputs": [
    {
     "name": "stdout",
     "output_type": "stream",
     "text": [
      "7\n"
     ]
    }
   ],
   "source": [
    "print(my_1d_array[-1])"
   ]
  },
  {
   "cell_type": "code",
   "execution_count": 141,
   "id": "a385a6de",
   "metadata": {},
   "outputs": [
    {
     "name": "stdout",
     "output_type": "stream",
     "text": [
      "5\n"
     ]
    }
   ],
   "source": [
    "print(my_1d_array[-2])"
   ]
  },
  {
   "cell_type": "markdown",
   "id": "41b6b2b4",
   "metadata": {},
   "source": [
    "We can also \"slice\" into an array, to extra multiple entries at the same time. The syntax is `start:stop:step`, where this will fetch all items beginning at index `start`, ending at `stop` (but not inclusive of `stop`), with `step` increments taken between each."
   ]
  },
  {
   "cell_type": "code",
   "execution_count": 144,
   "id": "4da66572",
   "metadata": {},
   "outputs": [
    {
     "name": "stdout",
     "output_type": "stream",
     "text": [
      "[1 3]\n"
     ]
    }
   ],
   "source": [
    "my_slice = my_1d_array[0:2]\n",
    "print(my_slice)"
   ]
  },
  {
   "cell_type": "code",
   "execution_count": 147,
   "id": "cb607ef2",
   "metadata": {},
   "outputs": [
    {
     "name": "stdout",
     "output_type": "stream",
     "text": [
      "[3 5]\n"
     ]
    }
   ],
   "source": [
    "my_slice = my_1d_array[-3:-1]\n",
    "print(my_slice)"
   ]
  },
  {
   "cell_type": "markdown",
   "id": "5b00427e",
   "metadata": {},
   "source": [
    "Slicing in higher-dimensional arrays can also be performed. Let's try to get the second column in our 2-D array. A `:` is used to indicate \"all values\" in that particular dimension."
   ]
  },
  {
   "cell_type": "code",
   "execution_count": 148,
   "id": "b193dfce",
   "metadata": {},
   "outputs": [
    {
     "name": "stdout",
     "output_type": "stream",
     "text": [
      "[[1 2 3]\n",
      " [4 5 6]]\n"
     ]
    }
   ],
   "source": [
    "print(my_2d_array)"
   ]
  },
  {
   "cell_type": "code",
   "execution_count": 149,
   "id": "6b333288",
   "metadata": {},
   "outputs": [
    {
     "name": "stdout",
     "output_type": "stream",
     "text": [
      "[2 5]\n"
     ]
    }
   ],
   "source": [
    "my_slice = my_2d_array[:, 1]\n",
    "print(my_slice)"
   ]
  },
  {
   "cell_type": "markdown",
   "id": "6bfdf731",
   "metadata": {},
   "source": [
    "When slicing, if you omit a number in `start:stop`, it will default to the beginning or end of the array."
   ]
  },
  {
   "cell_type": "code",
   "execution_count": 277,
   "id": "ea9913b6",
   "metadata": {},
   "outputs": [
    {
     "name": "stdout",
     "output_type": "stream",
     "text": [
      "[1 3 5 7]\n"
     ]
    }
   ],
   "source": [
    "print(my_1d_array)"
   ]
  },
  {
   "cell_type": "code",
   "execution_count": 278,
   "id": "c3137d2e",
   "metadata": {},
   "outputs": [
    {
     "name": "stdout",
     "output_type": "stream",
     "text": [
      "[3 5 7]\n"
     ]
    }
   ],
   "source": [
    "print(my_1d_array[1:])"
   ]
  },
  {
   "cell_type": "code",
   "execution_count": 281,
   "id": "60b7ba72",
   "metadata": {},
   "outputs": [
    {
     "name": "stdout",
     "output_type": "stream",
     "text": [
      "[7 5 3 1]\n"
     ]
    }
   ],
   "source": [
    "print(my_1d_array[-1::-1])"
   ]
  },
  {
   "cell_type": "markdown",
   "id": "7202ef92",
   "metadata": {},
   "source": [
    "Numpy contains functions we can use to easily set up the values held in arrays. Prior to this, we have been typing out the values ourselves. The `numpy.arange` function returns an array with evenly-spaced values between a `start`, a `stop` (not-inclusive), incremented by a `step`, like `numpy.arange(start, stop, step)`."
   ]
  },
  {
   "cell_type": "code",
   "execution_count": 185,
   "id": "5f81e096",
   "metadata": {},
   "outputs": [
    {
     "name": "stdout",
     "output_type": "stream",
     "text": [
      "9\n"
     ]
    }
   ],
   "source": [
    "my_array = np.arange(1, 10, 1)\n",
    "print(len(my_array))"
   ]
  },
  {
   "cell_type": "code",
   "execution_count": 186,
   "id": "e54fe3cb",
   "metadata": {},
   "outputs": [
    {
     "name": "stdout",
     "output_type": "stream",
     "text": [
      "[1 2 3 4 5 6 7 8 9]\n"
     ]
    }
   ],
   "source": [
    "print(my_array)"
   ]
  },
  {
   "cell_type": "code",
   "execution_count": 187,
   "id": "0507a1f8",
   "metadata": {},
   "outputs": [
    {
     "name": "stdout",
     "output_type": "stream",
     "text": [
      "[ 1  3  5  7  9 11 13 15 17 19 21 23 25 27 29 31 33 35 37 39 41 43 45 47\n",
      " 49 51 53 55 57 59 61 63 65 67 69 71 73 75 77 79 81 83 85 87 89 91 93 95\n",
      " 97 99]\n"
     ]
    }
   ],
   "source": [
    "my_array = np.arange(1, 100, 2)\n",
    "print(my_array)"
   ]
  },
  {
   "cell_type": "code",
   "execution_count": 190,
   "id": "e750fbcd",
   "metadata": {},
   "outputs": [
    {
     "name": "stdout",
     "output_type": "stream",
     "text": [
      "[  0.5          3.64159265   6.78318531   9.92477796  13.06637061\n",
      "  16.20796327  19.34955592  22.49114858  25.63274123  28.77433388\n",
      "  31.91592654  35.05751919  38.19911184  41.3407045   44.48229715\n",
      "  47.6238898   50.76548246  53.90707511  57.04866776  60.19026042\n",
      "  63.33185307  66.47344573  69.61503838  72.75663103  75.89822369\n",
      "  79.03981634  82.18140899  85.32300165  88.4645943   91.60618695\n",
      "  94.74777961  97.88937226 101.03096491 104.17255757 107.31415022\n",
      " 110.45574288 113.59733553 116.73892818 119.88052084 123.02211349]\n"
     ]
    }
   ],
   "source": [
    "my_array = np.arange(0.5, 123.7, math.pi)\n",
    "print(my_array)"
   ]
  },
  {
   "cell_type": "markdown",
   "id": "874c02ec",
   "metadata": {},
   "source": [
    "Another useful function is `numpy.linspace`, which will create `num` evenly-spaced values between a `start`, a `stop` (inclusive)."
   ]
  },
  {
   "cell_type": "code",
   "execution_count": 194,
   "id": "990b864f",
   "metadata": {},
   "outputs": [
    {
     "name": "stdout",
     "output_type": "stream",
     "text": [
      "[ 1.          2.28571429  3.57142857  4.85714286  6.14285714  7.42857143\n",
      "  8.71428571 10.        ]\n"
     ]
    }
   ],
   "source": [
    "my_array = np.linspace(1, 10, 8)\n",
    "print(my_array)"
   ]
  },
  {
   "cell_type": "code",
   "execution_count": 201,
   "id": "c7c21e0b",
   "metadata": {},
   "outputs": [
    {
     "name": "stdout",
     "output_type": "stream",
     "text": [
      "1.2857142857142858\n"
     ]
    }
   ],
   "source": [
    "# can you think of how to obtain the same array as above, but using np.arange?\n",
    "# It's more difficult!\n",
    "number_spacing = (10 - 1) / 7\n",
    "print(number_spacing)"
   ]
  },
  {
   "cell_type": "code",
   "execution_count": 202,
   "id": "d477f404",
   "metadata": {},
   "outputs": [
    {
     "name": "stdout",
     "output_type": "stream",
     "text": [
      "[ 1.          2.28571429  3.57142857  4.85714286  6.14285714  7.42857143\n",
      "  8.71428571 10.        ]\n"
     ]
    }
   ],
   "source": [
    "my_array = np.arange(1, 10 + number_spacing, number_spacing)\n",
    "print(my_array)"
   ]
  },
  {
   "cell_type": "markdown",
   "id": "8a0b3bab",
   "metadata": {},
   "source": [
    "I can even make an array of entirely zeros"
   ]
  },
  {
   "cell_type": "code",
   "execution_count": 218,
   "id": "e2623e56",
   "metadata": {},
   "outputs": [
    {
     "name": "stdout",
     "output_type": "stream",
     "text": [
      "[0. 0. 0.]\n"
     ]
    }
   ],
   "source": [
    "my_array = np.zeros((3))\n",
    "print(my_array)"
   ]
  },
  {
   "cell_type": "markdown",
   "id": "aa44b092",
   "metadata": {},
   "source": [
    "Sometimes, I just want to create an empty array, but which has a specified size. Perhaps I am going to populate the entries in that array at a later point in my program, in a loop."
   ]
  },
  {
   "cell_type": "code",
   "execution_count": 211,
   "id": "71b50a3d",
   "metadata": {},
   "outputs": [
    {
     "name": "stdout",
     "output_type": "stream",
     "text": [
      "(5, 5)\n"
     ]
    }
   ],
   "source": [
    "my_array = np.empty((5, 5))\n",
    "print(my_array.shape)"
   ]
  },
  {
   "cell_type": "code",
   "execution_count": 213,
   "id": "03536ab3",
   "metadata": {},
   "outputs": [
    {
     "name": "stdout",
     "output_type": "stream",
     "text": [
      "[[ 0.00000000e+000 -1.13635099e-322  4.63465857e+088  0.00000000e+000\n",
      "   2.12199589e-314]\n",
      " [ 0.00000000e+000              nan              nan              nan\n",
      "   0.00000000e+000]\n",
      " [ 0.00000000e+000  0.00000000e+000  0.00000000e+000  0.00000000e+000\n",
      "   0.00000000e+000]\n",
      " [ 0.00000000e+000  0.00000000e+000  0.00000000e+000  0.00000000e+000\n",
      "   0.00000000e+000]\n",
      " [ 0.00000000e+000  0.00000000e+000  0.00000000e+000  0.00000000e+000\n",
      "   4.63465857e+088]]\n"
     ]
    }
   ],
   "source": [
    "# What is held in this empty array?\n",
    "print(my_array)"
   ]
  },
  {
   "cell_type": "code",
   "execution_count": 215,
   "id": "10a1a037",
   "metadata": {},
   "outputs": [
    {
     "name": "stdout",
     "output_type": "stream",
     "text": [
      "[[0.00000000e+000 1.25000000e+002 4.63465857e+088 0.00000000e+000\n",
      "  2.12199589e-314]\n",
      " [0.00000000e+000             nan             nan             nan\n",
      "  0.00000000e+000]\n",
      " [0.00000000e+000 0.00000000e+000 0.00000000e+000 0.00000000e+000\n",
      "  0.00000000e+000]\n",
      " [0.00000000e+000 0.00000000e+000 0.00000000e+000 0.00000000e+000\n",
      "  0.00000000e+000]\n",
      " [0.00000000e+000 0.00000000e+000 0.00000000e+000 0.00000000e+000\n",
      "  4.63465857e+088]]\n"
     ]
    }
   ],
   "source": [
    "my_array[0, 1] = 125\n",
    "print(my_array)"
   ]
  },
  {
   "cell_type": "markdown",
   "id": "db452c5e",
   "metadata": {
    "slideshow": {
     "slide_type": "subslide"
    }
   },
   "source": [
    "# Discussion: Why do you think different types of data exist in Python? Can you see how you would use each kind? "
   ]
  },
  {
   "cell_type": "markdown",
   "id": "011c9705",
   "metadata": {
    "slideshow": {
     "slide_type": "slide"
    }
   },
   "source": [
    "# Python Operators\n",
    "\n",
    "### Now that you've seen some different types of objects in Python, let's explore the different types of operations you can do on them. "
   ]
  },
  {
   "cell_type": "markdown",
   "id": "3a5ac0f4",
   "metadata": {
    "slideshow": {
     "slide_type": "subslide"
    }
   },
   "source": [
    "Arithmetic Operators: \n",
    "* addition   a + b\n",
    "* subtraction a - b\n",
    "* multiplication   a*b \n",
    "* division a/b \n",
    "* modulus   a%b\n",
    "* exponent a**b "
   ]
  },
  {
   "cell_type": "code",
   "execution_count": 150,
   "id": "60071286",
   "metadata": {
    "slideshow": {
     "slide_type": "fragment"
    }
   },
   "outputs": [
    {
     "data": {
      "text/plain": [
       "100"
      ]
     },
     "execution_count": 150,
     "metadata": {},
     "output_type": "execute_result"
    }
   ],
   "source": [
    "10**2"
   ]
  },
  {
   "cell_type": "code",
   "execution_count": 152,
   "id": "7911c363",
   "metadata": {},
   "outputs": [
    {
     "data": {
      "text/plain": [
       "1"
      ]
     },
     "execution_count": 152,
     "metadata": {},
     "output_type": "execute_result"
    }
   ],
   "source": [
    "10%3"
   ]
  },
  {
   "cell_type": "code",
   "execution_count": 153,
   "id": "270fc527",
   "metadata": {},
   "outputs": [
    {
     "data": {
      "text/plain": [
       "3.3333333333333335"
      ]
     },
     "execution_count": 153,
     "metadata": {},
     "output_type": "execute_result"
    }
   ],
   "source": [
    "10/3"
   ]
  },
  {
   "cell_type": "markdown",
   "id": "957aab47",
   "metadata": {
    "slideshow": {
     "slide_type": "subslide"
    }
   },
   "source": [
    "Comparison Operators:\n",
    "\n",
    "    * equal == \n",
    "    * not equal != \n",
    "    * greater than > \n",
    "    * less than <\n",
    "    * greater than or equal to >=\n",
    "    * less than or equal to <="
   ]
  },
  {
   "cell_type": "code",
   "execution_count": 154,
   "id": "1258e25d",
   "metadata": {
    "slideshow": {
     "slide_type": "fragment"
    }
   },
   "outputs": [
    {
     "data": {
      "text/plain": [
       "True"
      ]
     },
     "execution_count": 154,
     "metadata": {},
     "output_type": "execute_result"
    }
   ],
   "source": [
    "9/3 == 3"
   ]
  },
  {
   "cell_type": "code",
   "execution_count": 155,
   "id": "7d7c44ea",
   "metadata": {},
   "outputs": [
    {
     "data": {
      "text/plain": [
       "False"
      ]
     },
     "execution_count": 155,
     "metadata": {},
     "output_type": "execute_result"
    }
   ],
   "source": [
    "10/3 == 3"
   ]
  },
  {
   "cell_type": "markdown",
   "id": "6f5ecdc8",
   "metadata": {
    "slideshow": {
     "slide_type": "subslide"
    }
   },
   "source": [
    "Logical Operators:\n",
    "    \n",
    "    * and ( inclusion of both )\n",
    "    * or ( one or other )\n",
    "    * not ( cannot include ) "
   ]
  },
  {
   "cell_type": "code",
   "execution_count": 156,
   "id": "441746b0",
   "metadata": {
    "slideshow": {
     "slide_type": "fragment"
    }
   },
   "outputs": [],
   "source": [
    "a = True\n",
    "b = True\n",
    "c = False"
   ]
  },
  {
   "cell_type": "code",
   "execution_count": 157,
   "id": "874bac66",
   "metadata": {},
   "outputs": [
    {
     "name": "stdout",
     "output_type": "stream",
     "text": [
      "False\n"
     ]
    }
   ],
   "source": [
    "print(a and c)"
   ]
  },
  {
   "cell_type": "code",
   "execution_count": 158,
   "id": "ac1fdcea",
   "metadata": {},
   "outputs": [
    {
     "name": "stdout",
     "output_type": "stream",
     "text": [
      "True\n"
     ]
    }
   ],
   "source": [
    "print(a or c)"
   ]
  },
  {
   "cell_type": "code",
   "execution_count": 160,
   "id": "fede27e7",
   "metadata": {},
   "outputs": [
    {
     "name": "stdout",
     "output_type": "stream",
     "text": [
      "False\n"
     ]
    }
   ],
   "source": [
    "print(not b)"
   ]
  },
  {
   "cell_type": "code",
   "execution_count": 161,
   "id": "9a41c864",
   "metadata": {},
   "outputs": [
    {
     "name": "stdout",
     "output_type": "stream",
     "text": [
      "False\n"
     ]
    }
   ],
   "source": [
    "print((a and (not b)) or c)"
   ]
  },
  {
   "cell_type": "markdown",
   "id": "89f8424a",
   "metadata": {
    "slideshow": {
     "slide_type": "slide"
    }
   },
   "source": [
    "# Python Conditionals \n",
    "\n",
    "### Now that we've learned about different operators in Python, let's consider what it would look like to combine them with conditional statements in python. Some examples of conditionals are:\n",
    "* if .... else\n",
    "* while\n",
    "* for \n",
    "\n",
    "Let's see some examples of each. "
   ]
  },
  {
   "cell_type": "code",
   "execution_count": 162,
   "id": "7359929f",
   "metadata": {
    "slideshow": {
     "slide_type": "subslide"
    }
   },
   "outputs": [
    {
     "name": "stdout",
     "output_type": "stream",
     "text": [
      "a is less than b\n"
     ]
    }
   ],
   "source": [
    "a = 20\n",
    "b = 30 \n",
    "if a > b:\n",
    "    print('a is greater than b')\n",
    "else:\n",
    "    print('a is less than b')"
   ]
  },
  {
   "cell_type": "code",
   "execution_count": 165,
   "id": "a18ce5f1",
   "metadata": {},
   "outputs": [
    {
     "name": "stdout",
     "output_type": "stream",
     "text": [
      "a between 30 and 49\n"
     ]
    }
   ],
   "source": [
    "a = 49\n",
    "if (a < 30):\n",
    "    print('a less than 30')\n",
    "elif (a < 50):\n",
    "    print('a between 30 and 49')\n",
    "else:\n",
    "    print('a greater than 49')"
   ]
  },
  {
   "cell_type": "code",
   "execution_count": 166,
   "id": "a9824dea",
   "metadata": {
    "slideshow": {
     "slide_type": "subslide"
    }
   },
   "outputs": [
    {
     "name": "stdout",
     "output_type": "stream",
     "text": [
      "The year is 1990. Let's party like it's 1999!\n",
      "The year is 1991. Let's party like it's 1999!\n",
      "The year is 1992. Let's party like it's 1999!\n",
      "The year is 1993. Let's party like it's 1999!\n",
      "The year is 1994. Let's party like it's 1999!\n",
      "The year is 1995. Let's party like it's 1999!\n",
      "The year is 1996. Let's party like it's 1999!\n",
      "The year is 1997. Let's party like it's 1999!\n",
      "The year is 1998. Let's party like it's 1999!\n"
     ]
    }
   ],
   "source": [
    "year = 1990\n",
    "while year < 1999:\n",
    "    print(f\"The year is {year}. Let's party like it's 1999!\")\n",
    "    year += 1 "
   ]
  },
  {
   "cell_type": "code",
   "execution_count": 168,
   "id": "db9c26c2",
   "metadata": {},
   "outputs": [
    {
     "name": "stdout",
     "output_type": "stream",
     "text": [
      "The year is 1990. Let's party like it's 1999!\n",
      "The year is 1991. Let's party like it's 1999!\n",
      "The year is 1992. Let's party like it's 1999!\n",
      "The year is 1993. Let's party like it's 1999!\n",
      "The year is 1994. Let's party like it's 1999!\n",
      "The year is 1995. Let's party like it's 1999!\n",
      "The year is 1996. Let's party like it's 1999!\n",
      "The year is 1997. Let's party like it's 1999!\n",
      "The year is 1998. Let's party like it's 1999!\n",
      "It's finally 1999!\n"
     ]
    }
   ],
   "source": [
    "year = 1990\n",
    "while year <= 1999:\n",
    "    if (year == 1999):\n",
    "        print(\"It's finally 1999!\")\n",
    "    else:\n",
    "        print(f\"The year is {year}. Let's party like it's 1999!\")\n",
    "    year += 1 "
   ]
  },
  {
   "cell_type": "markdown",
   "id": "850fa8b6",
   "metadata": {
    "slideshow": {
     "slide_type": "subslide"
    }
   },
   "source": [
    "# Discussion: what happens if the condition of the while loop is not met? "
   ]
  },
  {
   "cell_type": "markdown",
   "id": "022b671e",
   "metadata": {},
   "source": [
    "A for-loop is one way to loop over an array or list. For loops are very useful for performing a calculation on a set of data. One common operation is to loop through a numpy array. The `range(start, stop, step)` will construct a range of numbers beginning at `start`, ending at `stop` (not inclusive), incrementing by `step`."
   ]
  },
  {
   "cell_type": "code",
   "execution_count": 189,
   "id": "220d4e6b",
   "metadata": {
    "slideshow": {
     "slide_type": "subslide"
    }
   },
   "outputs": [
    {
     "name": "stdout",
     "output_type": "stream",
     "text": [
      "2\n",
      "3\n",
      "4\n",
      "5\n"
     ]
    }
   ],
   "source": [
    "# Generate a simple for-loop\n",
    "for x in range(2,6):\n",
    "    print(x)"
   ]
  },
  {
   "cell_type": "code",
   "execution_count": 177,
   "id": "cb9ddb04",
   "metadata": {},
   "outputs": [
    {
     "name": "stdout",
     "output_type": "stream",
     "text": [
      "1\n",
      "11\n",
      "21\n",
      "31\n",
      "41\n",
      "51\n",
      "61\n",
      "71\n",
      "81\n",
      "91\n"
     ]
    }
   ],
   "source": [
    "for x in range(1, 100, 10):\n",
    "    print(x)"
   ]
  },
  {
   "cell_type": "code",
   "execution_count": 178,
   "id": "49efd93c",
   "metadata": {},
   "outputs": [
    {
     "name": "stdout",
     "output_type": "stream",
     "text": [
      "1\n",
      "3\n",
      "5\n",
      "7\n"
     ]
    }
   ],
   "source": [
    "# Use a for-loop to cycle through all the items in a list\n",
    "my_list = [1, 3, 5, 7]\n",
    "for x in my_list:\n",
    "    print(x)"
   ]
  },
  {
   "cell_type": "code",
   "execution_count": 181,
   "id": "4606e721",
   "metadata": {},
   "outputs": [
    {
     "name": "stdout",
     "output_type": "stream",
     "text": [
      "1\n",
      "3\n",
      "5\n",
      "7\n"
     ]
    }
   ],
   "source": [
    "# We could have accomplished the same as the above by instead\n",
    "# looping over a range, and indexing into our list using that range \n",
    "for x in range(len(my_list)):\n",
    "    print(my_list[x])"
   ]
  },
  {
   "cell_type": "code",
   "execution_count": 203,
   "id": "342be0d5",
   "metadata": {},
   "outputs": [
    {
     "name": "stdout",
     "output_type": "stream",
     "text": [
      "3.0\n",
      "5.0\n",
      "7.0\n",
      "9.0\n"
     ]
    }
   ],
   "source": [
    "# Other array-type objects can be used for iterating in a loop\n",
    "my_array = np.linspace(3, 9, 4)\n",
    "for i in my_array:\n",
    "    print(i)"
   ]
  },
  {
   "cell_type": "code",
   "execution_count": 207,
   "id": "9997d9b3",
   "metadata": {},
   "outputs": [
    {
     "name": "stdout",
     "output_type": "stream",
     "text": [
      "1\n",
      "2\n",
      "3\n",
      "4\n",
      "5\n",
      "6\n"
     ]
    }
   ],
   "source": [
    "# We can iterate through a higher-dimensional array too!\n",
    "my_array = np.array([[1, 2, 3], [4, 5, 6]])\n",
    "for row in my_array:\n",
    "    for column in row:\n",
    "        print(column)"
   ]
  },
  {
   "cell_type": "markdown",
   "id": "e167ded9",
   "metadata": {
    "slideshow": {
     "slide_type": "subslide"
    }
   },
   "source": [
    "We can combine logic however we want! "
   ]
  },
  {
   "cell_type": "code",
   "execution_count": 182,
   "id": "bbe2c898",
   "metadata": {
    "slideshow": {
     "slide_type": "fragment"
    }
   },
   "outputs": [
    {
     "name": "stdout",
     "output_type": "stream",
     "text": [
      "My grade is 70 and it is below the class average\n",
      "My grade is 75 and it is below the class average\n",
      "My grade is 80 and it is below the class average\n",
      "I have the same grade as the class average!\n",
      "My grade is 90 and it is above the class average\n",
      "My grade is 95 and it is above the class average\n"
     ]
    }
   ],
   "source": [
    "for x in range(70,100,5):\n",
    "    if x < 85:\n",
    "        print(f\"My grade is {x} and it is below the class average\")\n",
    "    elif x == 85:\n",
    "        print(f\"I have the same grade as the class average!\")\n",
    "    else:\n",
    "        print(f\"My grade is {x} and it is above the class average\")"
   ]
  },
  {
   "cell_type": "markdown",
   "id": "0f174a96",
   "metadata": {
    "slideshow": {
     "slide_type": "slide"
    }
   },
   "source": [
    "# Introduction to Functions"
   ]
  },
  {
   "cell_type": "markdown",
   "id": "02025a3a",
   "metadata": {
    "slideshow": {
     "slide_type": "subslide"
    }
   },
   "source": [
    "Another type of object in Python is something called a function. A function takes **arguments** and performs a task on them. That function can then be called to perform the same operation over and over again. A function may **return** something, as well. To write a function, we have to **define** it with a specific convention. Note that all the code which belongs to the function must be indented! \n",
    "\n",
    "```\n",
    "def my_function_name(input arguments):\n",
    "  # do something\n",
    "  \n",
    "  # if you want to return a quantity, you can do so with a\n",
    "  # return statement\n",
    "  return a_variable\n",
    "```"
   ]
  },
  {
   "cell_type": "code",
   "execution_count": 223,
   "id": "04893fb5",
   "metadata": {},
   "outputs": [],
   "source": [
    "# You can have a function which takes no inputs at all and returns nothing\n",
    "def print_message():\n",
    "    print(\"good morning\")"
   ]
  },
  {
   "cell_type": "code",
   "execution_count": 224,
   "id": "daf13131",
   "metadata": {},
   "outputs": [
    {
     "name": "stdout",
     "output_type": "stream",
     "text": [
      "good morning\n"
     ]
    }
   ],
   "source": [
    "print_message()"
   ]
  },
  {
   "cell_type": "code",
   "execution_count": 229,
   "id": "5906473e",
   "metadata": {},
   "outputs": [],
   "source": [
    "# Let's have a function which takes inputs, but does not return anything\n",
    "def print_custom_message(date):\n",
    "    print(f'good morning, it is {date}')"
   ]
  },
  {
   "cell_type": "code",
   "execution_count": 236,
   "id": "e245cbaf",
   "metadata": {},
   "outputs": [
    {
     "name": "stdout",
     "output_type": "stream",
     "text": [
      "good morning, it is 2023-10-11\n"
     ]
    }
   ],
   "source": [
    "import datetime\n",
    "print_custom_message(datetime.date.today())"
   ]
  },
  {
   "cell_type": "code",
   "execution_count": 237,
   "id": "3f68c5ac",
   "metadata": {
    "slideshow": {
     "slide_type": "subslide"
    }
   },
   "outputs": [],
   "source": [
    "# Let's have a function which takes inputs, and returns something\n",
    "def add_two_numbers(a, b):\n",
    "    sum_both = a+b\n",
    "    return sum_both"
   ]
  },
  {
   "cell_type": "markdown",
   "id": "8963afa5",
   "metadata": {
    "slideshow": {
     "slide_type": "fragment"
    }
   },
   "source": [
    "Here we have defined a function called **add_two_numbers**, where two variables **a** and **b** are passed into it. When the function is called, it adds a and b together, and then returns that value. Let's see how well it works!"
   ]
  },
  {
   "cell_type": "code",
   "execution_count": 238,
   "id": "0b9f62ab",
   "metadata": {},
   "outputs": [
    {
     "name": "stdout",
     "output_type": "stream",
     "text": [
      "7\n"
     ]
    }
   ],
   "source": [
    "print(add_two_numbers(3, 4))"
   ]
  },
  {
   "cell_type": "code",
   "execution_count": 239,
   "id": "598d055b",
   "metadata": {},
   "outputs": [],
   "source": [
    "# You can return multiple quantities from a single function\n",
    "def get_min_and_max(x):\n",
    "    minimum = np.min(x)\n",
    "    maximum = np.max(x)\n",
    "    return minimum, maximum"
   ]
  },
  {
   "cell_type": "code",
   "execution_count": 240,
   "id": "d70f0125",
   "metadata": {},
   "outputs": [
    {
     "name": "stdout",
     "output_type": "stream",
     "text": [
      "[0.50659517 0.97509577 0.05062261 0.76707961 0.72218738 0.12130923\n",
      " 0.23113686 0.10817182 0.62925363 0.57134957]\n"
     ]
    }
   ],
   "source": [
    "random_data = np.random.rand(10)\n",
    "print(random_data)"
   ]
  },
  {
   "cell_type": "code",
   "execution_count": 241,
   "id": "7921a50a",
   "metadata": {},
   "outputs": [
    {
     "name": "stdout",
     "output_type": "stream",
     "text": [
      "0.05062261445841043\n",
      "0.9750957699574672\n"
     ]
    }
   ],
   "source": [
    "small, big = get_min_and_max(random_data)\n",
    "print(small)\n",
    "print(big)"
   ]
  },
  {
   "cell_type": "markdown",
   "id": "b09beac2",
   "metadata": {},
   "source": [
    "When writing functions, it is important to document how to properly use the function! You may forget, or other people be confused, on exactly what is meant by the order of the input arguments, or the order of the output arguments, in addition to the purpose of the function. You can document functions using a \"docstring\" in triple quotes. "
   ]
  },
  {
   "cell_type": "code",
   "execution_count": 243,
   "id": "f67f410e",
   "metadata": {},
   "outputs": [],
   "source": [
    "def get_min_and_max(x):\n",
    "    \"\"\"\n",
    "    Returns the minimum and maximum value in an array.\n",
    "\n",
    "    Parameters:\n",
    "    -----------\n",
    "    x: numpy array\n",
    "       Array to get minimum and maximum value of.\n",
    "   \n",
    "   \n",
    "    Returns:\n",
    "    --------\n",
    "    minimum and maximum values of the array\n",
    "    \"\"\"\n",
    "    minimum = np.min(x)\n",
    "    maximum = np.max(x)\n",
    "    return minimum, maximum"
   ]
  },
  {
   "cell_type": "markdown",
   "id": "52a65468",
   "metadata": {
    "slideshow": {
     "slide_type": "subslide"
    }
   },
   "source": [
    "# Checkpoint: Why do I want multiple types of documentation? Why do I want documentation at all?"
   ]
  },
  {
   "cell_type": "code",
   "execution_count": 245,
   "id": "4e345527",
   "metadata": {
    "slideshow": {
     "slide_type": "subslide"
    }
   },
   "outputs": [],
   "source": [
    "random_data = np.random.rand(10)\n",
    "small, big = get_min_and_max(random_data)"
   ]
  },
  {
   "cell_type": "code",
   "execution_count": 247,
   "id": "135574e8",
   "metadata": {},
   "outputs": [
    {
     "name": "stdout",
     "output_type": "stream",
     "text": [
      "\n",
      "    Returns the minimum and maximum value in an array.\n",
      "\n",
      "    Parameters:\n",
      "    -----------\n",
      "    x: numpy array\n",
      "       Array to get minimum and maximum value of.\n",
      "   \n",
      "   \n",
      "    Returns:\n",
      "    --------\n",
      "    minimum and maximum values of the array\n",
      "    \n"
     ]
    }
   ],
   "source": [
    "print(get_min_and_max.__doc__)"
   ]
  },
  {
   "cell_type": "markdown",
   "id": "df5b9e88",
   "metadata": {
    "slideshow": {
     "slide_type": "subslide"
    }
   },
   "source": [
    "What happens to the variables `minimum` and `maximum` stored in the function? In programming languages, \"scope\" indicates where within a program a variable exists. Scope in python is indicated using indentation. Any variables that we define inside a function are not accessible outside the function."
   ]
  },
  {
   "cell_type": "code",
   "execution_count": 248,
   "id": "b5642edb",
   "metadata": {
    "slideshow": {
     "slide_type": "fragment"
    }
   },
   "outputs": [
    {
     "ename": "NameError",
     "evalue": "name 'minimum' is not defined",
     "output_type": "error",
     "traceback": [
      "\u001b[0;31m---------------------------------------------------------------------------\u001b[0m",
      "\u001b[0;31mNameError\u001b[0m                                 Traceback (most recent call last)",
      "Cell \u001b[0;32mIn[248], line 1\u001b[0m\n\u001b[0;32m----> 1\u001b[0m \u001b[43mminimum\u001b[49m\n",
      "\u001b[0;31mNameError\u001b[0m: name 'minimum' is not defined"
     ]
    }
   ],
   "source": [
    "minimum"
   ]
  },
  {
   "cell_type": "code",
   "execution_count": 249,
   "id": "01b88d51",
   "metadata": {},
   "outputs": [
    {
     "ename": "NameError",
     "evalue": "name 'maximum' is not defined",
     "output_type": "error",
     "traceback": [
      "\u001b[0;31m---------------------------------------------------------------------------\u001b[0m",
      "\u001b[0;31mNameError\u001b[0m                                 Traceback (most recent call last)",
      "Cell \u001b[0;32mIn[249], line 1\u001b[0m\n\u001b[0;32m----> 1\u001b[0m \u001b[43mmaximum\u001b[49m\n",
      "\u001b[0;31mNameError\u001b[0m: name 'maximum' is not defined"
     ]
    }
   ],
   "source": [
    "maximum"
   ]
  },
  {
   "cell_type": "code",
   "execution_count": 250,
   "id": "b741b787",
   "metadata": {},
   "outputs": [],
   "source": [
    "a = 3\n",
    "def reset_a():\n",
    "    a = 5\n",
    "    \n",
    "reset_a()"
   ]
  },
  {
   "cell_type": "code",
   "execution_count": 253,
   "id": "2773e35e",
   "metadata": {},
   "outputs": [
    {
     "name": "stdout",
     "output_type": "stream",
     "text": [
      "3\n"
     ]
    }
   ],
   "source": [
    "# What do we think the value of a is, outside the function?\n",
    "print(a)"
   ]
  },
  {
   "cell_type": "markdown",
   "id": "5fcc8944",
   "metadata": {
    "slideshow": {
     "slide_type": "subslide"
    }
   },
   "source": [
    "In the Python language there are a huge number of functions built in to help you write your programs. I recommend searching for them in the documentation to learn about how to use them. Some very common functions you will enounter are:\n",
    "* type()\n",
    "* abs()\n",
    "* sum()\n",
    "* max()\n",
    "* len()"
   ]
  },
  {
   "cell_type": "code",
   "execution_count": 254,
   "id": "52670661",
   "metadata": {
    "slideshow": {
     "slide_type": "fragment"
    }
   },
   "outputs": [
    {
     "data": {
      "text/plain": [
       "12"
      ]
     },
     "execution_count": 254,
     "metadata": {},
     "output_type": "execute_result"
    }
   ],
   "source": [
    "# Let's try an example!!! \n",
    "len('NPRE is cool')"
   ]
  },
  {
   "cell_type": "markdown",
   "id": "f56fcaae",
   "metadata": {},
   "source": [
    "### How to view documentation?\n",
    "\n",
    "There are numerous ways that you can find the documentation for a function or class in Jupyter notebooks. Using \"Shift+Tab\" will open a pop-up box with documentation for the function/class of interest."
   ]
  },
  {
   "cell_type": "code",
   "execution_count": null,
   "id": "478d6445",
   "metadata": {
    "slideshow": {
     "slide_type": "subslide"
    }
   },
   "outputs": [],
   "source": [
    "# View documentation for np.arange"
   ]
  },
  {
   "cell_type": "code",
   "execution_count": 257,
   "id": "414204bb",
   "metadata": {},
   "outputs": [
    {
     "data": {
      "text/plain": [
       "array([1, 3, 5, 7, 9])"
      ]
     },
     "execution_count": 257,
     "metadata": {},
     "output_type": "execute_result"
    }
   ],
   "source": [
    "np.arange(1,10,2)"
   ]
  },
  {
   "cell_type": "code",
   "execution_count": 260,
   "id": "27ee45ae",
   "metadata": {
    "slideshow": {
     "slide_type": "subslide"
    }
   },
   "outputs": [],
   "source": [
    "# What do you think our previous function looks like with this feature?\n",
    "# View documentation for get_min_and_max"
   ]
  },
  {
   "cell_type": "markdown",
   "id": "dc8dc8aa",
   "metadata": {},
   "source": [
    "Or, if you are not using Jupyter notebooks (but instead running a Python script directly), you can use `help(np.arange)`. And of course Google is your friend!"
   ]
  },
  {
   "cell_type": "code",
   "execution_count": 283,
   "id": "cebe8543",
   "metadata": {},
   "outputs": [
    {
     "name": "stdout",
     "output_type": "stream",
     "text": [
      "Help on built-in function arange in module numpy:\n",
      "\n",
      "arange(...)\n",
      "    arange([start,] stop[, step,], dtype=None, *, like=None)\n",
      "    \n",
      "    Return evenly spaced values within a given interval.\n",
      "    \n",
      "    ``arange`` can be called with a varying number of positional arguments:\n",
      "    \n",
      "    * ``arange(stop)``: Values are generated within the half-open interval\n",
      "      ``[0, stop)`` (in other words, the interval including `start` but\n",
      "      excluding `stop`).\n",
      "    * ``arange(start, stop)``: Values are generated within the half-open\n",
      "      interval ``[start, stop)``.\n",
      "    * ``arange(start, stop, step)`` Values are generated within the half-open\n",
      "      interval ``[start, stop)``, with spacing between values given by\n",
      "      ``step``.\n",
      "    \n",
      "    For integer arguments the function is roughly equivalent to the Python\n",
      "    built-in :py:class:`range`, but returns an ndarray rather than a ``range``\n",
      "    instance.\n",
      "    \n",
      "    When using a non-integer step, such as 0.1, it is often better to use\n",
      "    `numpy.linspace`.\n",
      "    \n",
      "    See the Warning sections below for more information.\n",
      "    \n",
      "    Parameters\n",
      "    ----------\n",
      "    start : integer or real, optional\n",
      "        Start of interval.  The interval includes this value.  The default\n",
      "        start value is 0.\n",
      "    stop : integer or real\n",
      "        End of interval.  The interval does not include this value, except\n",
      "        in some cases where `step` is not an integer and floating point\n",
      "        round-off affects the length of `out`.\n",
      "    step : integer or real, optional\n",
      "        Spacing between values.  For any output `out`, this is the distance\n",
      "        between two adjacent values, ``out[i+1] - out[i]``.  The default\n",
      "        step size is 1.  If `step` is specified as a position argument,\n",
      "        `start` must also be given.\n",
      "    dtype : dtype, optional\n",
      "        The type of the output array.  If `dtype` is not given, infer the data\n",
      "        type from the other input arguments.\n",
      "    like : array_like, optional\n",
      "        Reference object to allow the creation of arrays which are not\n",
      "        NumPy arrays. If an array-like passed in as ``like`` supports\n",
      "        the ``__array_function__`` protocol, the result will be defined\n",
      "        by it. In this case, it ensures the creation of an array object\n",
      "        compatible with that passed in via this argument.\n",
      "    \n",
      "        .. versionadded:: 1.20.0\n",
      "    \n",
      "    Returns\n",
      "    -------\n",
      "    arange : ndarray\n",
      "        Array of evenly spaced values.\n",
      "    \n",
      "        For floating point arguments, the length of the result is\n",
      "        ``ceil((stop - start)/step)``.  Because of floating point overflow,\n",
      "        this rule may result in the last element of `out` being greater\n",
      "        than `stop`.\n",
      "    \n",
      "    Warnings\n",
      "    --------\n",
      "    The length of the output might not be numerically stable.\n",
      "    \n",
      "    Another stability issue is due to the internal implementation of\n",
      "    `numpy.arange`.\n",
      "    The actual step value used to populate the array is\n",
      "    ``dtype(start + step) - dtype(start)`` and not `step`. Precision loss\n",
      "    can occur here, due to casting or due to using floating points when\n",
      "    `start` is much larger than `step`. This can lead to unexpected\n",
      "    behaviour. For example::\n",
      "    \n",
      "      >>> np.arange(0, 5, 0.5, dtype=int)\n",
      "      array([0, 0, 0, 0, 0, 0, 0, 0, 0, 0])\n",
      "      >>> np.arange(-3, 3, 0.5, dtype=int)\n",
      "      array([-3, -2, -1,  0,  1,  2,  3,  4,  5,  6,  7,  8])\n",
      "    \n",
      "    In such cases, the use of `numpy.linspace` should be preferred.\n",
      "    \n",
      "    The built-in :py:class:`range` generates :std:doc:`Python built-in integers\n",
      "    that have arbitrary size <python:c-api/long>`, while `numpy.arange`\n",
      "    produces `numpy.int32` or `numpy.int64` numbers. This may result in\n",
      "    incorrect results for large integer values::\n",
      "    \n",
      "      >>> power = 40\n",
      "      >>> modulo = 10000\n",
      "      >>> x1 = [(n ** power) % modulo for n in range(8)]\n",
      "      >>> x2 = [(n ** power) % modulo for n in np.arange(8)]\n",
      "      >>> print(x1)\n",
      "      [0, 1, 7776, 8801, 6176, 625, 6576, 4001]  # correct\n",
      "      >>> print(x2)\n",
      "      [0, 1, 7776, 7185, 0, 5969, 4816, 3361]  # incorrect\n",
      "    \n",
      "    See Also\n",
      "    --------\n",
      "    numpy.linspace : Evenly spaced numbers with careful handling of endpoints.\n",
      "    numpy.ogrid: Arrays of evenly spaced numbers in N-dimensions.\n",
      "    numpy.mgrid: Grid-shaped arrays of evenly spaced numbers in N-dimensions.\n",
      "    :ref:`how-to-partition`\n",
      "    \n",
      "    Examples\n",
      "    --------\n",
      "    >>> np.arange(3)\n",
      "    array([0, 1, 2])\n",
      "    >>> np.arange(3.0)\n",
      "    array([ 0.,  1.,  2.])\n",
      "    >>> np.arange(3,7)\n",
      "    array([3, 4, 5, 6])\n",
      "    >>> np.arange(3,7,2)\n",
      "    array([3, 5])\n",
      "\n",
      "None\n"
     ]
    }
   ],
   "source": [
    "print(help(np.arange))"
   ]
  },
  {
   "cell_type": "markdown",
   "id": "c8455d5d",
   "metadata": {
    "slideshow": {
     "slide_type": "slide"
    }
   },
   "source": [
    "# Arrays \n",
    "\n",
    "Ok, let's get used to array computations since you'll use them a LOT in NE. First we'll create a random 10x10 matrix"
   ]
  },
  {
   "cell_type": "code",
   "execution_count": 269,
   "id": "39d8f9f2",
   "metadata": {
    "slideshow": {
     "slide_type": "subslide"
    }
   },
   "outputs": [
    {
     "name": "stdout",
     "output_type": "stream",
     "text": [
      "[78 74  9 61 85 28 66 75 65 41  0  2 47 16 76 56 78  7 53  1  5 67 47 50\n",
      " 34 66 16 65 41 82 30 48  2 74  2 81 19 25 37 73  4 20 72 32 35  4 53 23\n",
      " 85 53 18 68  4 68 45 70 85 13 85 61 59 28 13 70 71 25 37 90 13 74  7 95\n",
      " 59 86 39  7 78 14 10 77 36 49 29 31 63 42 77 75 39  3 97 10 52 33 74 28\n",
      " 60 58 31 59]\n"
     ]
    }
   ],
   "source": [
    "our_data = np.random.randint(0, 100, size=100)\n",
    "print(our_data)"
   ]
  },
  {
   "cell_type": "code",
   "execution_count": 270,
   "id": "8c3bcc3c",
   "metadata": {},
   "outputs": [
    {
     "name": "stdout",
     "output_type": "stream",
     "text": [
      "[[78 74  9 61 85 28 66 75 65 41]\n",
      " [ 0  2 47 16 76 56 78  7 53  1]\n",
      " [ 5 67 47 50 34 66 16 65 41 82]\n",
      " [30 48  2 74  2 81 19 25 37 73]\n",
      " [ 4 20 72 32 35  4 53 23 85 53]\n",
      " [18 68  4 68 45 70 85 13 85 61]\n",
      " [59 28 13 70 71 25 37 90 13 74]\n",
      " [ 7 95 59 86 39  7 78 14 10 77]\n",
      " [36 49 29 31 63 42 77 75 39  3]\n",
      " [97 10 52 33 74 28 60 58 31 59]]\n"
     ]
    }
   ],
   "source": [
    "# Reshape the array into a 10 x 10 two-dimensional array\n",
    "our_data = our_data.reshape(10, 10)\n",
    "print(our_data)"
   ]
  },
  {
   "cell_type": "markdown",
   "id": "137912d1",
   "metadata": {
    "slideshow": {
     "slide_type": "subslide"
    }
   },
   "source": [
    "![](https://swcarpentry.github.io/python-novice-inflammation/fig/python-zero-index.svg)"
   ]
  },
  {
   "cell_type": "markdown",
   "id": "936d608e",
   "metadata": {
    "slideshow": {
     "slide_type": "subslide"
    }
   },
   "source": [
    "If we want to get a specific value on the matrix we need to do a selection. Since this matrix is 2d we need to specify the row it is in, and the column it is in. So, let's try a few selections:"
   ]
  },
  {
   "cell_type": "code",
   "execution_count": 271,
   "id": "12368503",
   "metadata": {
    "slideshow": {
     "slide_type": "fragment"
    }
   },
   "outputs": [
    {
     "data": {
      "text/plain": [
       "2"
      ]
     },
     "execution_count": 271,
     "metadata": {},
     "output_type": "execute_result"
    }
   ],
   "source": [
    "our_data[3][2]"
   ]
  },
  {
   "cell_type": "code",
   "execution_count": 272,
   "id": "12a02b7f",
   "metadata": {
    "slideshow": {
     "slide_type": "subslide"
    }
   },
   "outputs": [
    {
     "data": {
      "text/plain": [
       "array([30, 48,  2, 74,  2, 81, 19, 25, 37, 73])"
      ]
     },
     "execution_count": 272,
     "metadata": {},
     "output_type": "execute_result"
    }
   ],
   "source": [
    "our_data[3]"
   ]
  },
  {
   "cell_type": "code",
   "execution_count": 273,
   "id": "43a15cc6",
   "metadata": {
    "slideshow": {
     "slide_type": "fragment"
    }
   },
   "outputs": [
    {
     "data": {
      "text/plain": [
       "2"
      ]
     },
     "execution_count": 273,
     "metadata": {},
     "output_type": "execute_result"
    }
   ],
   "source": [
    "our_data[1][1]"
   ]
  },
  {
   "cell_type": "markdown",
   "id": "c6576ff9",
   "metadata": {
    "slideshow": {
     "slide_type": "subslide"
    }
   },
   "source": [
    "We can also use the `:` to do larger selections. So to take the 2nd column we would do:"
   ]
  },
  {
   "cell_type": "code",
   "execution_count": 274,
   "id": "49d3775b",
   "metadata": {
    "slideshow": {
     "slide_type": "fragment"
    }
   },
   "outputs": [
    {
     "data": {
      "text/plain": [
       "array([74,  2, 67, 48, 20, 68, 28, 95, 49, 10])"
      ]
     },
     "execution_count": 274,
     "metadata": {},
     "output_type": "execute_result"
    }
   ],
   "source": [
    "our_data[:,1]"
   ]
  },
  {
   "cell_type": "code",
   "execution_count": 275,
   "id": "7b93a2a4",
   "metadata": {
    "slideshow": {
     "slide_type": "fragment"
    }
   },
   "outputs": [
    {
     "data": {
      "text/plain": [
       "array([[78, 74],\n",
       "       [ 0,  2]])"
      ]
     },
     "execution_count": 275,
     "metadata": {},
     "output_type": "execute_result"
    }
   ],
   "source": [
    "our_data[0:2,0:2]"
   ]
  },
  {
   "cell_type": "code",
   "execution_count": 276,
   "id": "a540f016",
   "metadata": {
    "slideshow": {
     "slide_type": "fragment"
    }
   },
   "outputs": [
    {
     "data": {
      "text/plain": [
       "array([[78, 74],\n",
       "       [ 0,  2]])"
      ]
     },
     "execution_count": 276,
     "metadata": {},
     "output_type": "execute_result"
    }
   ],
   "source": [
    "our_data[:2,:2]"
   ]
  },
  {
   "cell_type": "code",
   "execution_count": 284,
   "id": "c82e0b62",
   "metadata": {
    "slideshow": {
     "slide_type": "subslide"
    }
   },
   "outputs": [
    {
     "data": {
      "text/plain": [
       "array([[70, 85, 13, 85, 61],\n",
       "       [25, 37, 90, 13, 74],\n",
       "       [ 7, 78, 14, 10, 77],\n",
       "       [42, 77, 75, 39,  3],\n",
       "       [28, 60, 58, 31, 59]])"
      ]
     },
     "execution_count": 284,
     "metadata": {},
     "output_type": "execute_result"
    }
   ],
   "source": [
    "our_data[-5:,-5:]"
   ]
  },
  {
   "cell_type": "code",
   "execution_count": 285,
   "id": "ced194e9",
   "metadata": {
    "slideshow": {
     "slide_type": "subslide"
    }
   },
   "outputs": [
    {
     "name": "stdout",
     "output_type": "stream",
     "text": [
      "97\n",
      "0\n",
      "27.54508304579966\n"
     ]
    }
   ],
   "source": [
    "print(np.max(our_data))\n",
    "print(np.min(our_data))\n",
    "print(np.std(our_data))"
   ]
  },
  {
   "cell_type": "markdown",
   "id": "9a366ef3",
   "metadata": {
    "slideshow": {
     "slide_type": "subslide"
    }
   },
   "source": [
    "# Checkpoint: using np.max() to get the maximum value in an array, find the maximum value in each row of your data matrix."
   ]
  },
  {
   "cell_type": "code",
   "execution_count": 300,
   "id": "bfab805b",
   "metadata": {},
   "outputs": [],
   "source": [
    "max_value_in_each_row = []"
   ]
  },
  {
   "cell_type": "code",
   "execution_count": 301,
   "id": "dd8ea48c",
   "metadata": {},
   "outputs": [
    {
     "name": "stdout",
     "output_type": "stream",
     "text": [
      "[85, 78, 82, 81, 85, 85, 90, 95, 77, 97]\n"
     ]
    }
   ],
   "source": [
    "for x in our_data:\n",
    "    max_value_in_each_row.append(np.max(x))\n",
    "print(max_value_in_each_row)"
   ]
  },
  {
   "cell_type": "code",
   "execution_count": 303,
   "id": "ae3fa5a8",
   "metadata": {},
   "outputs": [
    {
     "name": "stdout",
     "output_type": "stream",
     "text": [
      "[85, 78, 82, 81, 85, 85, 90, 95, 77, 97]\n"
     ]
    }
   ],
   "source": [
    "# Another way to do this in even shorter syntax: list comprehensions!\n",
    "max_value_in_each_row = [np.max(x) for x in our_data]\n",
    "print(max_value_in_each_row)"
   ]
  },
  {
   "cell_type": "markdown",
   "id": "034701e0",
   "metadata": {},
   "source": [
    "![](https://swcarpentry.github.io/python-novice-inflammation/fig/python-zero-index.svg)"
   ]
  },
  {
   "cell_type": "markdown",
   "id": "57dcdd5d",
   "metadata": {
    "slideshow": {
     "slide_type": "slide"
    }
   },
   "source": [
    "# Plotting"
   ]
  },
  {
   "cell_type": "markdown",
   "id": "a670e5e2",
   "metadata": {
    "slideshow": {
     "slide_type": "subslide"
    }
   },
   "source": [
    "Earlier we imported a module from matplotlib called pyplot. This is the object-oriented interface for matplotlib's plotting tools. There are so many ways you can create and modify plots with this interface. \n",
    "\n",
    "Resources: \n",
    "[matplotlib gallery](https://matplotlib.org/stable/gallery/index.html)\n",
    "![](https://matplotlib.org/stable/_images/sphx_glr_anatomy_001.png)"
   ]
  },
  {
   "cell_type": "code",
   "execution_count": 305,
   "id": "77f0060a",
   "metadata": {},
   "outputs": [],
   "source": [
    "import matplotlib.pyplot as plt"
   ]
  },
  {
   "cell_type": "code",
   "execution_count": 306,
   "id": "72378f70",
   "metadata": {
    "slideshow": {
     "slide_type": "subslide"
    }
   },
   "outputs": [],
   "source": [
    "#first we define our x and y points:\n",
    "x = np.linspace(0, 10, num=1000, endpoint=True)\n",
    "y = np.sin(x*3+x**2+2)"
   ]
  },
  {
   "cell_type": "code",
   "execution_count": 308,
   "id": "99a791d7",
   "metadata": {
    "slideshow": {
     "slide_type": "fragment"
    }
   },
   "outputs": [
    {
     "data": {
      "image/png": "[encoded data removed]",
      "text/plain": [
       "<Figure size 640x480 with 1 Axes>"
      ]
     },
     "metadata": {},
     "output_type": "display_data"
    }
   ],
   "source": [
    "plt.plot(x,y,'-')\n",
    "plt.legend(labels=['function'], loc='best')\n",
    "plt.show()"
   ]
  },
  {
   "cell_type": "markdown",
   "id": "fae61290",
   "metadata": {
    "slideshow": {
     "slide_type": "subslide"
    }
   },
   "source": [
    "Oh no! But there is no title or axes for this plot? How can we fix it? "
   ]
  },
  {
   "cell_type": "code",
   "execution_count": 309,
   "id": "942bdf8e",
   "metadata": {
    "slideshow": {
     "slide_type": "fragment"
    }
   },
   "outputs": [
    {
     "data": {
      "image/png": "[encoded data removed]",
      "text/plain": [
       "<Figure size 640x480 with 1 Axes>"
      ]
     },
     "metadata": {},
     "output_type": "display_data"
    }
   ],
   "source": [
    "plt.plot(x,y,'-')\n",
    "plt.legend(labels=['function'], loc='best')\n",
    "plt.xlabel('x')\n",
    "plt.ylabel('y')\n",
    "plt.title('Plot of our cool function')\n",
    "plt.savefig('our_plot.png')"
   ]
  },
  {
   "cell_type": "markdown",
   "id": "3077bbaf",
   "metadata": {
    "slideshow": {
     "slide_type": "fragment"
    }
   },
   "source": [
    "Pro-tip: Check out all of the plot objects that are available to you via tab completion. "
   ]
  },
  {
   "cell_type": "markdown",
   "id": "d745043f",
   "metadata": {
    "slideshow": {
     "slide_type": "slide"
    }
   },
   "source": [
    "# Bringing it all together"
   ]
  },
  {
   "cell_type": "code",
   "execution_count": 311,
   "id": "9e53ed22",
   "metadata": {
    "slideshow": {
     "slide_type": "subslide"
    }
   },
   "outputs": [],
   "source": [
    "from scipy.interpolate import interp1d"
   ]
  },
  {
   "cell_type": "code",
   "execution_count": 312,
   "id": "49c6893a",
   "metadata": {
    "slideshow": {
     "slide_type": "subslide"
    }
   },
   "outputs": [],
   "source": [
    "# first we'll define our x and y points \n",
    "x = np.linspace(0, 10, num=11, endpoint=True)\n",
    "y = np.cos(-x**2/9.0)"
   ]
  },
  {
   "cell_type": "code",
   "execution_count": null,
   "id": "89fd73e1",
   "metadata": {},
   "outputs": [],
   "source": []
  },
  {
   "cell_type": "code",
   "execution_count": 313,
   "id": "bebdf446",
   "metadata": {
    "slideshow": {
     "slide_type": "fragment"
    }
   },
   "outputs": [],
   "source": [
    "# now we'll use scipy's interpolate routine to get a few interpolations of this data \n",
    "f = interp1d(x, y)\n",
    "f2 = interp1d(x, y, kind='cubic')\n",
    "f3 = interp1d(x, y, kind='quadratic')"
   ]
  },
  {
   "cell_type": "code",
   "execution_count": 320,
   "id": "8766fc97",
   "metadata": {},
   "outputs": [
    {
     "name": "stdout",
     "output_type": "stream",
     "text": [
      "0.9483415889488953\n"
     ]
    }
   ],
   "source": [
    "print(f(1.5))"
   ]
  },
  {
   "cell_type": "code",
   "execution_count": 321,
   "id": "3c13a0df",
   "metadata": {
    "slideshow": {
     "slide_type": "fragment"
    }
   },
   "outputs": [
    {
     "data": {
      "image/png": "[encoded data removed]",
      "text/plain": [
       "<Figure size 640x480 with 1 Axes>"
      ]
     },
     "metadata": {},
     "output_type": "display_data"
    }
   ],
   "source": [
    "# now let's plot it! \n",
    "xnew = np.linspace(0, 10, num=41, endpoint=True) # this defines more points for the interpolations\n",
    "plt.plot(x, y, 'o', xnew, f(xnew), '-', xnew, f2(xnew), '--', xnew, f3(xnew), '-*')\n",
    "plt.legend(['data', 'linear', 'cubic', 'quadratic'], loc='best')\n",
    "plt.show()"
   ]
  },
  {
   "cell_type": "markdown",
   "id": "5b1b75f8",
   "metadata": {
    "slideshow": {
     "slide_type": "slide"
    }
   },
   "source": [
    "### Some useful Python packages for your work:\n",
    "\n",
    "* matplotlib [docs](https://matplotlib.org/) [source](https://github.com/matplotlib/matplotlib)\n",
    "* numpy [docs](https://numpy.org/doc/stable/) [source](https://github.com/numpy/numpy)\n",
    "* scipy [docs](https://scipy.org/scipylib/) [source](https://github.com/scipy/scipy)\n",
    "* sympy [docs](https://docs.sympy.org/latest/index.html) [source](https://github.com/sympy/sympy)\n",
    "* pytest [docs](https://docs.pytest.org/en/6.2.x/) [source](https://github.com/pytest-dev/pytest)\n",
    "* unyt [docs](https://unyt.readthedocs.io/en/stable/) [source](https://github.com/yt-project/unyt)\n",
    "* pyne [docs](http://pyne.io/) [source](https://github.com/pyne/pyne)\n",
    "* radioactivedecay [docs](https://radioactivedecay.github.io/) [source](https://github.com/radioactivedecay/radioactivedecay)\n",
    "* serpenttools [docs](https://serpent-tools.readthedocs.io/en/latest/) [source](https://github.com/CORE-GATECH-GROUP/serpent-tools)\n",
    "* shabblona [source](https://github.com/uwescience/shablona)"
   ]
  },
  {
   "cell_type": "markdown",
   "id": "f4ee7c79",
   "metadata": {
    "slideshow": {
     "slide_type": "subslide"
    }
   },
   "source": [
    "### Final Discussion:\n",
    "\n",
    "There are many versions of Python that exist, and many versions of packages that exist. What does that mean for your work? "
   ]
  },
  {
   "cell_type": "markdown",
   "id": "1a5a86f2",
   "metadata": {
    "slideshow": {
     "slide_type": "slide"
    }
   },
   "source": [
    "# Happy Pythoning!!! "
   ]
  },
  {
   "cell_type": "code",
   "execution_count": 322,
   "id": "933b9bc1",
   "metadata": {
    "slideshow": {
     "slide_type": "subslide"
    }
   },
   "outputs": [],
   "source": [
    "import antigravity"
   ]
  },
  {
   "cell_type": "code",
   "execution_count": null,
   "id": "3ce20e47",
   "metadata": {},
   "outputs": [],
   "source": []
  }
 ],
 "metadata": {
  "kernelspec": {
   "display_name": "Python 3 (ipykernel)",
   "language": "python",
   "name": "python3"
  },
  "language_info": {
   "codemirror_mode": {
    "name": "ipython",
    "version": 3
   },
   "file_extension": ".py",
   "mimetype": "text/x-python",
   "name": "python",
   "nbconvert_exporter": "python",
   "pygments_lexer": "ipython3",
   "version": "3.11.2"
  }
 },
 "nbformat": 4,
 "nbformat_minor": 5
}
