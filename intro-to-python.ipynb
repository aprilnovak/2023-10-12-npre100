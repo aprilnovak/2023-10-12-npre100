{
 "cells": [
  {
   "cell_type": "markdown",
   "id": "58ed007d",
   "metadata": {
    "slideshow": {
     "slide_type": "slide"
    }
   },
   "source": [
    "# NPRE 100: Introduction to Python \n",
    "\n",
    "### Dr. Madicken Munk\n"
   ]
  },
  {
   "cell_type": "markdown",
   "id": "0631c135",
   "metadata": {
    "slideshow": {
     "slide_type": "subslide"
    }
   },
   "source": [
    "### Programming: the coolest calculator you'll ever have. And it's free! "
   ]
  },
  {
   "cell_type": "markdown",
   "id": "5fc5608a",
   "metadata": {},
   "source": [
    "What are some operators you'd expect to see on a calculator? Addition? subtraction? Multiplication and division? "
   ]
  },
  {
   "cell_type": "code",
   "execution_count": null,
   "id": "fa955d8f",
   "metadata": {
    "slideshow": {
     "slide_type": "subslide"
    }
   },
   "outputs": [],
   "source": []
  },
  {
   "cell_type": "markdown",
   "id": "512c2b1b",
   "metadata": {},
   "source": [
    "We can also print useful messages in our scripts that make things more readable"
   ]
  },
  {
   "cell_type": "code",
   "execution_count": null,
   "id": "6d494bc2",
   "metadata": {
    "slideshow": {
     "slide_type": "subslide"
    }
   },
   "outputs": [],
   "source": []
  },
  {
   "cell_type": "markdown",
   "id": "2492fcdd",
   "metadata": {
    "slideshow": {
     "slide_type": "subslide"
    }
   },
   "source": [
    "... and so much is already written for you"
   ]
  },
  {
   "cell_type": "markdown",
   "id": "6745a9cf",
   "metadata": {
    "slideshow": {
     "slide_type": "subslide"
    }
   },
   "source": [
    "Words, numbers, and calculations are useful, but what’s more useful are the sentences and stories we build with them. Similarly, while a lot of powerful, general tools are built into Python, specialized tools built up from these basic units live in libraries that can be called upon when needed.\n",
    "\n",
    "Importing a library is like getting a piece of lab equipment out of a storage locker and setting it up on the bench. Libraries provide additional functionality to the basic Python package, much like a new piece of equipment adds functionality to a lab space. Just like in the lab, importing too many libraries can sometimes complicate and slow down your programs - so we only import what we need for each program."
   ]
  },
  {
   "cell_type": "code",
   "execution_count": null,
   "id": "f27637d2",
   "metadata": {
    "slideshow": {
     "slide_type": "fragment"
    }
   },
   "outputs": [],
   "source": [
    "# These are a few useful packages we'll be using today in this lesson\n",
    "import numpy as np \n",
    "import matplotlib.pyplot as plt \n",
    "import math "
   ]
  },
  {
   "cell_type": "markdown",
   "id": "42bfe8e5",
   "metadata": {
    "slideshow": {
     "slide_type": "subslide"
    }
   },
   "source": [
    "So what does this give us? Well, we have a huge amount of knowledge at our fingertips that we don't need to program any more! And it's written by experts. "
   ]
  },
  {
   "cell_type": "code",
   "execution_count": null,
   "id": "ac83d1f0",
   "metadata": {
    "slideshow": {
     "slide_type": "fragment"
    }
   },
   "outputs": [],
   "source": [
    "# let's print the value of pi from the math module "
   ]
  },
  {
   "cell_type": "code",
   "execution_count": null,
   "id": "578e6966",
   "metadata": {
    "slideshow": {
     "slide_type": "fragment"
    }
   },
   "outputs": [],
   "source": [
    "# let's see if we just let whatever is returned from a function \n",
    "# be returned in the notebook. Maybe exp()? "
   ]
  },
  {
   "cell_type": "markdown",
   "id": "3d9d19bb",
   "metadata": {
    "slideshow": {
     "slide_type": "slide"
    }
   },
   "source": [
    "ok! I've convinced you that there are some useful things that you can do. Let's go over some Python basics to get you all started\n",
    "\n",
    "You just saw me do some small calculations with Python, but what if I want to save information to use later? We do that using **variables**. To create a variable in python, we use an equals sign. The characters to the left are the name of the variable, and the expression on the right is its value. "
   ]
  },
  {
   "cell_type": "code",
   "execution_count": null,
   "id": "3dcae127",
   "metadata": {
    "slideshow": {
     "slide_type": "fragment"
    }
   },
   "outputs": [],
   "source": [
    "# create a variable called `my_variable`"
   ]
  },
  {
   "cell_type": "markdown",
   "id": "aad993bd",
   "metadata": {
    "slideshow": {
     "slide_type": "subslide"
    }
   },
   "source": [
    "From now on, when I call `my_variable` with Python, it knows to return the value of the variable. That is, 3.0. \n",
    "\n",
    "In Python, variable names:\n",
    "\n",
    "* can include letters, digits, and underscores\n",
    "* cannot start with a digit\n",
    "* are case sensitive.\n",
    "\n",
    "but be careful! \n",
    "\n",
    "We can easily overwrite variables too. What happens if I assign a new value to a variable with the same name? "
   ]
  },
  {
   "cell_type": "code",
   "execution_count": null,
   "id": "dcf69f03",
   "metadata": {},
   "outputs": [],
   "source": [
    "My_variable"
   ]
  },
  {
   "cell_type": "code",
   "execution_count": null,
   "id": "f41529d5",
   "metadata": {
    "slideshow": {
     "slide_type": "fragment"
    }
   },
   "outputs": [],
   "source": [
    "my_variable = 'I love cats!!!!'\n",
    "my_variable"
   ]
  },
  {
   "cell_type": "markdown",
   "id": "a0c84399",
   "metadata": {
    "slideshow": {
     "slide_type": "subslide"
    }
   },
   "source": [
    "# Discussion: What do you think this means when you choose to name your variables? "
   ]
  },
  {
   "cell_type": "markdown",
   "id": "2dc6c81a",
   "metadata": {
    "slideshow": {
     "slide_type": "subslide"
    }
   },
   "source": [
    "We can also perform operations on variables: "
   ]
  },
  {
   "cell_type": "code",
   "execution_count": null,
   "id": "1775c04f",
   "metadata": {
    "slideshow": {
     "slide_type": "fragment"
    }
   },
   "outputs": [],
   "source": [
    "# make a new variable and print both\n"
   ]
  },
  {
   "cell_type": "markdown",
   "id": "f8857853",
   "metadata": {
    "slideshow": {
     "slide_type": "subslide"
    }
   },
   "source": [
    "Or even modify a variable in place:"
   ]
  },
  {
   "cell_type": "code",
   "execution_count": null,
   "id": "76164e47",
   "metadata": {
    "slideshow": {
     "slide_type": "fragment"
    }
   },
   "outputs": [],
   "source": [
    "# add a variable in place to `my_variable`"
   ]
  },
  {
   "cell_type": "code",
   "execution_count": null,
   "id": "b3a53cc3",
   "metadata": {
    "slideshow": {
     "slide_type": "fragment"
    }
   },
   "outputs": [],
   "source": [
    "# now let's print the new value of `my_variable`\n",
    "my_variable"
   ]
  },
  {
   "cell_type": "markdown",
   "id": "7b55ae8e",
   "metadata": {
    "slideshow": {
     "slide_type": "slide"
    }
   },
   "source": [
    "# Data Types in Python \n",
    "\n",
    "### ok! So now we know how to do some simple operations and store some of our computations as variables. However, there have been a few different things we've seen. Letters and numbers. "
   ]
  },
  {
   "cell_type": "code",
   "execution_count": null,
   "id": "74a3090b",
   "metadata": {
    "slideshow": {
     "slide_type": "subslide"
    }
   },
   "outputs": [],
   "source": [
    "# Strings"
   ]
  },
  {
   "cell_type": "code",
   "execution_count": null,
   "id": "a0c1ea7e",
   "metadata": {},
   "outputs": [],
   "source": [
    "type(my_variable)"
   ]
  },
  {
   "cell_type": "code",
   "execution_count": null,
   "id": "4380b590",
   "metadata": {
    "slideshow": {
     "slide_type": "subslide"
    }
   },
   "outputs": [],
   "source": [
    "# Integers\n"
   ]
  },
  {
   "cell_type": "code",
   "execution_count": null,
   "id": "95f202aa",
   "metadata": {},
   "outputs": [],
   "source": []
  },
  {
   "cell_type": "code",
   "execution_count": null,
   "id": "11ce1316",
   "metadata": {
    "slideshow": {
     "slide_type": "subslide"
    }
   },
   "outputs": [],
   "source": [
    "# Floats\n"
   ]
  },
  {
   "cell_type": "code",
   "execution_count": null,
   "id": "943db3c1",
   "metadata": {},
   "outputs": [],
   "source": []
  },
  {
   "cell_type": "code",
   "execution_count": null,
   "id": "0671398e",
   "metadata": {
    "slideshow": {
     "slide_type": "subslide"
    }
   },
   "outputs": [],
   "source": [
    "# Lists (can be comprised of integers, floats, strings, bools)\n"
   ]
  },
  {
   "cell_type": "code",
   "execution_count": null,
   "id": "dd8d32c8",
   "metadata": {},
   "outputs": [],
   "source": [
    "# Lists can be accessed with the index. Let's see what the value of \n",
    "# the 0th item in the list is"
   ]
  },
  {
   "cell_type": "code",
   "execution_count": null,
   "id": "0fa41c40",
   "metadata": {},
   "outputs": [],
   "source": []
  },
  {
   "cell_type": "code",
   "execution_count": null,
   "id": "791ef6c3",
   "metadata": {
    "slideshow": {
     "slide_type": "subslide"
    }
   },
   "outputs": [],
   "source": [
    "# booleans (True/False)\n"
   ]
  },
  {
   "cell_type": "code",
   "execution_count": null,
   "id": "1a337cb8",
   "metadata": {
    "slideshow": {
     "slide_type": "subslide"
    }
   },
   "outputs": [],
   "source": [
    "# dictionaries\n"
   ]
  },
  {
   "cell_type": "code",
   "execution_count": null,
   "id": "948159d2",
   "metadata": {},
   "outputs": [],
   "source": [
    "# We just talked about accessing with a list. What do you think \n",
    "# accessing with a dict looks like? "
   ]
  },
  {
   "cell_type": "code",
   "execution_count": null,
   "id": "0a4da723",
   "metadata": {
    "slideshow": {
     "slide_type": "subslide"
    }
   },
   "outputs": [],
   "source": [
    "# another important type that we are going to come back to is an array:\n"
   ]
  },
  {
   "cell_type": "markdown",
   "id": "db452c5e",
   "metadata": {
    "slideshow": {
     "slide_type": "subslide"
    }
   },
   "source": [
    "# Discussion: Why do you think different types of data exist in Python? Can you see how you would use each kind? "
   ]
  },
  {
   "cell_type": "markdown",
   "id": "011c9705",
   "metadata": {
    "slideshow": {
     "slide_type": "slide"
    }
   },
   "source": [
    "# Python Operators\n",
    "\n",
    "### Now that you've seen some different types of objects in Python, let's explore the different types of operations you can do on them. "
   ]
  },
  {
   "cell_type": "markdown",
   "id": "3a5ac0f4",
   "metadata": {
    "slideshow": {
     "slide_type": "subslide"
    }
   },
   "source": [
    "Arithmetic Operators: \n",
    "* addition   a + b\n",
    "* subtraction a - b\n",
    "* multiplication   a*b \n",
    "* division a/b \n",
    "* modulus   a%b\n",
    "* exponent a**b "
   ]
  },
  {
   "cell_type": "code",
   "execution_count": null,
   "id": "60071286",
   "metadata": {
    "slideshow": {
     "slide_type": "fragment"
    }
   },
   "outputs": [],
   "source": [
    "10**2"
   ]
  },
  {
   "cell_type": "code",
   "execution_count": null,
   "id": "7911c363",
   "metadata": {},
   "outputs": [],
   "source": [
    "10%3"
   ]
  },
  {
   "cell_type": "markdown",
   "id": "957aab47",
   "metadata": {
    "slideshow": {
     "slide_type": "subslide"
    }
   },
   "source": [
    "Comparison Operators:\n",
    "\n",
    "    * equal == \n",
    "    * not equal != \n",
    "    * greater than > \n",
    "    * less than <\n",
    "    * greater than or equal to >=\n",
    "    * less than or equal to <="
   ]
  },
  {
   "cell_type": "code",
   "execution_count": null,
   "id": "1258e25d",
   "metadata": {
    "slideshow": {
     "slide_type": "fragment"
    }
   },
   "outputs": [],
   "source": [
    "9/3 == 3"
   ]
  },
  {
   "cell_type": "code",
   "execution_count": null,
   "id": "7d7c44ea",
   "metadata": {},
   "outputs": [],
   "source": [
    "10/3 == 3"
   ]
  },
  {
   "cell_type": "markdown",
   "id": "6f5ecdc8",
   "metadata": {
    "slideshow": {
     "slide_type": "subslide"
    }
   },
   "source": [
    "Logical Operators:\n",
    "    \n",
    "    * and ( inclusion of both )\n",
    "    * or ( one or other )\n",
    "    * not ( cannot include ) "
   ]
  },
  {
   "cell_type": "code",
   "execution_count": null,
   "id": "441746b0",
   "metadata": {
    "slideshow": {
     "slide_type": "fragment"
    }
   },
   "outputs": [],
   "source": []
  },
  {
   "cell_type": "markdown",
   "id": "89f8424a",
   "metadata": {
    "slideshow": {
     "slide_type": "slide"
    }
   },
   "source": [
    "# Python Conditionals \n",
    "\n",
    "### Now that we've learned about different operators in Python, let's consider what it would look like to combine them with conditional statements in python. Some examples of conditionals are:\n",
    "* if .... else\n",
    "* while\n",
    "* for \n",
    "\n",
    "Let's see some examples of each. "
   ]
  },
  {
   "cell_type": "code",
   "execution_count": null,
   "id": "7359929f",
   "metadata": {
    "slideshow": {
     "slide_type": "subslide"
    }
   },
   "outputs": [],
   "source": [
    "a = 20\n",
    "b = 30 \n",
    "if a > b:\n",
    "    print('a is greater than b')\n",
    "else:\n",
    "    print('a is less than b')"
   ]
  },
  {
   "cell_type": "code",
   "execution_count": null,
   "id": "a9824dea",
   "metadata": {
    "slideshow": {
     "slide_type": "subslide"
    }
   },
   "outputs": [],
   "source": [
    "year = 1990\n",
    "while year < 1999:\n",
    "    print(f\"The year is {year}. Let's party like it's 1999!\")\n",
    "    year += 1 "
   ]
  },
  {
   "cell_type": "markdown",
   "id": "850fa8b6",
   "metadata": {
    "slideshow": {
     "slide_type": "subslide"
    }
   },
   "source": [
    "# Discussion: what happens if the condition of the while loop is not met? "
   ]
  },
  {
   "cell_type": "code",
   "execution_count": null,
   "id": "220d4e6b",
   "metadata": {
    "slideshow": {
     "slide_type": "subslide"
    }
   },
   "outputs": [],
   "source": [
    "for x in range(2,6):\n",
    "    print(x)"
   ]
  },
  {
   "cell_type": "markdown",
   "id": "e167ded9",
   "metadata": {
    "slideshow": {
     "slide_type": "subslide"
    }
   },
   "source": [
    "We can combine logic however we want! "
   ]
  },
  {
   "cell_type": "code",
   "execution_count": null,
   "id": "bbe2c898",
   "metadata": {
    "slideshow": {
     "slide_type": "fragment"
    }
   },
   "outputs": [],
   "source": [
    "for x in range(70,100,5):\n",
    "    if x < 85:\n",
    "        print(f\"My grade is {x} and it is below the class average\")\n",
    "    elif x == 85:\n",
    "        print(f\"I have the same grade as the class average!\")\n",
    "    else:\n",
    "        print(f\"My grade is {x} and it is above the class average\")"
   ]
  },
  {
   "cell_type": "markdown",
   "id": "0f174a96",
   "metadata": {
    "slideshow": {
     "slide_type": "slide"
    }
   },
   "source": [
    "# Introduction to Functions"
   ]
  },
  {
   "cell_type": "markdown",
   "id": "02025a3a",
   "metadata": {
    "slideshow": {
     "slide_type": "subslide"
    }
   },
   "source": [
    "Another type of object in Python is something called a function. A function takes **arguments** and performs a task on them. That function can then be called to perform the same operation over and over again. To write a function, we have to **define** it with a specific convention. "
   ]
  },
  {
   "cell_type": "code",
   "execution_count": null,
   "id": "4c224698",
   "metadata": {},
   "outputs": [],
   "source": [
    "type(3.0)"
   ]
  },
  {
   "cell_type": "code",
   "execution_count": null,
   "id": "3f68c5ac",
   "metadata": {
    "slideshow": {
     "slide_type": "subslide"
    }
   },
   "outputs": [],
   "source": [
    "def add_two_numbers(a, b):\n",
    "    \"\"\"\n",
    "    Returns the value of variables a and b\n",
    "    \n",
    "    Parameters\n",
    "    ----------\n",
    "    a: int or float\n",
    "    b: int or float\n",
    "    \n",
    "    Returns:\n",
    "    sum_both: int or float \n",
    "        The sum of both variables\n",
    "    \n",
    "    \"\"\"\n",
    "    sum_both = a+b  # here is where I perform the sum\n",
    "    return sum_both"
   ]
  },
  {
   "cell_type": "markdown",
   "id": "8963afa5",
   "metadata": {
    "slideshow": {
     "slide_type": "fragment"
    }
   },
   "source": [
    "Here we have defined a function called **add_two_numbers**, where two variables **a** and **b** are passed into it. When the function is called, it adds a and b together, and then returns that value. Let's see how well it works!\n",
    "\n",
    "Note also I have multiple types of documentation in this function. A **docstring** and an **inline comment**. \n"
   ]
  },
  {
   "cell_type": "markdown",
   "id": "52a65468",
   "metadata": {
    "slideshow": {
     "slide_type": "subslide"
    }
   },
   "source": [
    "# Checkpoint: Why do I want multiple types of documentation? Why do I want documentation at all?"
   ]
  },
  {
   "cell_type": "code",
   "execution_count": null,
   "id": "4e345527",
   "metadata": {
    "slideshow": {
     "slide_type": "subslide"
    }
   },
   "outputs": [],
   "source": [
    "add_two_numbers(10,20)"
   ]
  },
  {
   "cell_type": "code",
   "execution_count": null,
   "id": "135574e8",
   "metadata": {},
   "outputs": [],
   "source": [
    "print(add_two_numbers.__doc__)"
   ]
  },
  {
   "cell_type": "code",
   "execution_count": null,
   "id": "ef9afbf6",
   "metadata": {},
   "outputs": [],
   "source": []
  },
  {
   "cell_type": "code",
   "execution_count": null,
   "id": "495a41d8",
   "metadata": {
    "slideshow": {
     "slide_type": "fragment"
    }
   },
   "outputs": [],
   "source": [
    "add_two_numbers(50,60)"
   ]
  },
  {
   "cell_type": "markdown",
   "id": "df5b9e88",
   "metadata": {
    "slideshow": {
     "slide_type": "subslide"
    }
   },
   "source": [
    "What happens to the variable stored in the function? "
   ]
  },
  {
   "cell_type": "code",
   "execution_count": null,
   "id": "b5642edb",
   "metadata": {
    "slideshow": {
     "slide_type": "fragment"
    }
   },
   "outputs": [],
   "source": [
    "sum_both"
   ]
  },
  {
   "cell_type": "markdown",
   "id": "5fcc8944",
   "metadata": {
    "slideshow": {
     "slide_type": "subslide"
    }
   },
   "source": [
    "In the Python language there are a huge number of functions built in to help you write your programs. I recommend searching for them in the documentation to learn about how to use them. Some very common functions you will enounter are:\n",
    "* type()\n",
    "* abs()\n",
    "* sum()\n",
    "* max()\n",
    "* len()"
   ]
  },
  {
   "cell_type": "code",
   "execution_count": null,
   "id": "52670661",
   "metadata": {
    "slideshow": {
     "slide_type": "fragment"
    }
   },
   "outputs": [],
   "source": [
    "# Let's try an example!!! \n",
    "len('NPRE is cool')"
   ]
  },
  {
   "cell_type": "code",
   "execution_count": null,
   "id": "478d6445",
   "metadata": {
    "slideshow": {
     "slide_type": "subslide"
    }
   },
   "outputs": [],
   "source": [
    "# Pro-tip: you can always check the documentation of a function in a notebook with the question mark\n",
    "np.arange?"
   ]
  },
  {
   "cell_type": "code",
   "execution_count": null,
   "id": "414204bb",
   "metadata": {},
   "outputs": [],
   "source": [
    "np.arange(1,10,2)"
   ]
  },
  {
   "cell_type": "code",
   "execution_count": null,
   "id": "27ee45ae",
   "metadata": {
    "slideshow": {
     "slide_type": "subslide"
    }
   },
   "outputs": [],
   "source": [
    "# What do you think our previous function looks like with this feature?\n",
    "print(add_two_numbers.__doc__)"
   ]
  },
  {
   "cell_type": "markdown",
   "id": "c8455d5d",
   "metadata": {
    "slideshow": {
     "slide_type": "slide"
    }
   },
   "source": [
    "# Arrays \n",
    "\n",
    "### Ok, let's get used to array computations since you'll use them a LOT in NE. \n",
    "\n",
    "### First we'll create a random 10x10 matrix"
   ]
  },
  {
   "cell_type": "code",
   "execution_count": null,
   "id": "39d8f9f2",
   "metadata": {
    "slideshow": {
     "slide_type": "subslide"
    }
   },
   "outputs": [],
   "source": [
    "our_data = np.random.randint(10, size=100).reshape(10,10) \n",
    "our_data"
   ]
  },
  {
   "cell_type": "markdown",
   "id": "137912d1",
   "metadata": {
    "slideshow": {
     "slide_type": "subslide"
    }
   },
   "source": [
    "![](https://swcarpentry.github.io/python-novice-inflammation/fig/python-zero-index.svg)"
   ]
  },
  {
   "cell_type": "markdown",
   "id": "936d608e",
   "metadata": {
    "slideshow": {
     "slide_type": "subslide"
    }
   },
   "source": [
    "If we want to get a specific value on the matrix we need to do a selection. Since this matrix is 2d we need to specify the row it is in, and the column it is in. So, let's try a few selections:"
   ]
  },
  {
   "cell_type": "code",
   "execution_count": null,
   "id": "12368503",
   "metadata": {
    "slideshow": {
     "slide_type": "fragment"
    }
   },
   "outputs": [],
   "source": [
    "our_data[3][2]"
   ]
  },
  {
   "cell_type": "code",
   "execution_count": null,
   "id": "12a02b7f",
   "metadata": {
    "slideshow": {
     "slide_type": "subslide"
    }
   },
   "outputs": [],
   "source": [
    "our_data[3]"
   ]
  },
  {
   "cell_type": "code",
   "execution_count": null,
   "id": "43a15cc6",
   "metadata": {
    "slideshow": {
     "slide_type": "fragment"
    }
   },
   "outputs": [],
   "source": [
    "our_data[1][1]"
   ]
  },
  {
   "cell_type": "markdown",
   "id": "c6576ff9",
   "metadata": {
    "slideshow": {
     "slide_type": "subslide"
    }
   },
   "source": [
    "We cam also use the `:` to do larger selections. So to take the 2nd column we would do:"
   ]
  },
  {
   "cell_type": "code",
   "execution_count": null,
   "id": "49d3775b",
   "metadata": {
    "slideshow": {
     "slide_type": "fragment"
    }
   },
   "outputs": [],
   "source": [
    "our_data[:,1]"
   ]
  },
  {
   "cell_type": "code",
   "execution_count": null,
   "id": "7b93a2a4",
   "metadata": {
    "slideshow": {
     "slide_type": "fragment"
    }
   },
   "outputs": [],
   "source": [
    "our_data[0:2,0:2]"
   ]
  },
  {
   "cell_type": "code",
   "execution_count": null,
   "id": "a540f016",
   "metadata": {
    "slideshow": {
     "slide_type": "fragment"
    }
   },
   "outputs": [],
   "source": [
    "our_data[:2,:2]"
   ]
  },
  {
   "cell_type": "code",
   "execution_count": null,
   "id": "c82e0b62",
   "metadata": {
    "slideshow": {
     "slide_type": "subslide"
    }
   },
   "outputs": [],
   "source": [
    "our_data[-5:,-5:]"
   ]
  },
  {
   "cell_type": "code",
   "execution_count": null,
   "id": "ced194e9",
   "metadata": {
    "slideshow": {
     "slide_type": "subslide"
    }
   },
   "outputs": [],
   "source": [
    "print(np.max(our_data))\n",
    "print(np.min(our_data))\n",
    "print(np.std(our_data))"
   ]
  },
  {
   "cell_type": "markdown",
   "id": "9a366ef3",
   "metadata": {
    "slideshow": {
     "slide_type": "subslide"
    }
   },
   "source": [
    "# Checkpoint: using np.max() to get the maximum value in an array, find the maximum value in each row of your data matrix."
   ]
  },
  {
   "cell_type": "code",
   "execution_count": null,
   "id": "bfab805b",
   "metadata": {},
   "outputs": [],
   "source": []
  },
  {
   "cell_type": "markdown",
   "id": "034701e0",
   "metadata": {},
   "source": [
    "![](https://swcarpentry.github.io/python-novice-inflammation/fig/python-zero-index.svg)"
   ]
  },
  {
   "cell_type": "markdown",
   "id": "57dcdd5d",
   "metadata": {
    "slideshow": {
     "slide_type": "slide"
    }
   },
   "source": [
    "# Plotting"
   ]
  },
  {
   "cell_type": "markdown",
   "id": "a670e5e2",
   "metadata": {
    "slideshow": {
     "slide_type": "subslide"
    }
   },
   "source": [
    "### Earlier we imported a module from matplotlib called pyplot. This is the object-oriented interface for matplotlib's plotting tools. There are so many ways you can create and modify plots with this interface. \n",
    "\n",
    "Resources: \n",
    "[matplotlib gallery](https://matplotlib.org/stable/gallery/index.html)\n",
    "![](https://matplotlib.org/stable/_images/sphx_glr_anatomy_001.png)"
   ]
  },
  {
   "cell_type": "code",
   "execution_count": null,
   "id": "72378f70",
   "metadata": {
    "slideshow": {
     "slide_type": "subslide"
    }
   },
   "outputs": [],
   "source": [
    "#first we define our x and y points:\n",
    "x = np.linspace(0,10, num=1000, endpoint=True)\n",
    "y = np.sin(x*3+x**2+2)"
   ]
  },
  {
   "cell_type": "code",
   "execution_count": null,
   "id": "99a791d7",
   "metadata": {
    "slideshow": {
     "slide_type": "fragment"
    }
   },
   "outputs": [],
   "source": [
    "plt.plot(x,y,'-')\n",
    "plt.legend(['function'], loc='best')\n",
    "plt.show()"
   ]
  },
  {
   "cell_type": "markdown",
   "id": "fae61290",
   "metadata": {
    "slideshow": {
     "slide_type": "subslide"
    }
   },
   "source": [
    "Oh no! But there is no title or axes for this plot? How can we fix it? "
   ]
  },
  {
   "cell_type": "code",
   "execution_count": null,
   "id": "942bdf8e",
   "metadata": {
    "slideshow": {
     "slide_type": "fragment"
    }
   },
   "outputs": [],
   "source": [
    "plt.plot(x,y,'-')\n",
    "plt.legend(['function'], loc='best')\n",
    "plt.xlabel('x')\n",
    "plt.ylabel('y')\n",
    "plt.title('Plot of our cool function')\n",
    "plt.savefig('our_plot.png')"
   ]
  },
  {
   "cell_type": "markdown",
   "id": "3077bbaf",
   "metadata": {
    "slideshow": {
     "slide_type": "fragment"
    }
   },
   "source": [
    "Pro-tip: Check out all of the plot objects that are available to you via tab completion. "
   ]
  },
  {
   "cell_type": "markdown",
   "id": "d745043f",
   "metadata": {
    "slideshow": {
     "slide_type": "slide"
    }
   },
   "source": [
    "# Bringing it all together"
   ]
  },
  {
   "cell_type": "code",
   "execution_count": null,
   "id": "9e53ed22",
   "metadata": {
    "slideshow": {
     "slide_type": "subslide"
    }
   },
   "outputs": [],
   "source": [
    "from scipy.interpolate import interp1d"
   ]
  },
  {
   "cell_type": "code",
   "execution_count": null,
   "id": "49c6893a",
   "metadata": {
    "slideshow": {
     "slide_type": "subslide"
    }
   },
   "outputs": [],
   "source": [
    "# first we'll define our x and y points \n",
    "x = np.linspace(0, 10, num=11, endpoint=True)\n",
    "y = np.cos(-x**2/9.0)"
   ]
  },
  {
   "cell_type": "code",
   "execution_count": null,
   "id": "bebdf446",
   "metadata": {
    "slideshow": {
     "slide_type": "fragment"
    }
   },
   "outputs": [],
   "source": [
    "# now we'll use scipy's interpolate routine to get a few interpolations of this data \n",
    "f = interp1d(x, y)\n",
    "f2 = interp1d(x, y, kind='cubic')\n",
    "f3 = interp1d(x, y, kind='quadratic')"
   ]
  },
  {
   "cell_type": "code",
   "execution_count": null,
   "id": "3c13a0df",
   "metadata": {
    "slideshow": {
     "slide_type": "fragment"
    }
   },
   "outputs": [],
   "source": [
    "# now let's plot it! \n",
    "xnew = np.linspace(0, 10, num=41, endpoint=True) # this defines more points for the interpolations\n",
    "plt.plot(x, y, 'o', xnew, f(xnew), '-', xnew, f2(xnew), '--', xnew, f3(xnew), '-*')\n",
    "plt.legend(['data', 'linear', 'cubic', 'quadratic'], loc='best')\n",
    "plt.show()"
   ]
  },
  {
   "cell_type": "markdown",
   "id": "5b1b75f8",
   "metadata": {
    "slideshow": {
     "slide_type": "slide"
    }
   },
   "source": [
    "### Some useful Python packages for your work:\n",
    "\n",
    "* matplotlib [docs](https://matplotlib.org/) [source](https://github.com/matplotlib/matplotlib)\n",
    "* numpy [docs](https://numpy.org/doc/stable/) [source](https://github.com/numpy/numpy)\n",
    "* scipy [docs](https://scipy.org/scipylib/) [source](https://github.com/scipy/scipy)\n",
    "* sympy [docs](https://docs.sympy.org/latest/index.html) [source](https://github.com/sympy/sympy)\n",
    "* pytest [docs](https://docs.pytest.org/en/6.2.x/) [source](https://github.com/pytest-dev/pytest)\n",
    "* unyt [docs](https://unyt.readthedocs.io/en/stable/) [source](https://github.com/yt-project/unyt)\n",
    "* pyne [docs](http://pyne.io/) [source](https://github.com/pyne/pyne)\n",
    "* radioactivedecay [docs](https://radioactivedecay.github.io/) [source](https://github.com/radioactivedecay/radioactivedecay)\n",
    "* serpenttools [docs](https://serpent-tools.readthedocs.io/en/latest/) [source](https://github.com/CORE-GATECH-GROUP/serpent-tools)\n",
    "* shabblona [source](https://github.com/uwescience/shablona)"
   ]
  },
  {
   "cell_type": "markdown",
   "id": "f4ee7c79",
   "metadata": {
    "slideshow": {
     "slide_type": "subslide"
    }
   },
   "source": [
    "### Final Discussion:\n",
    "\n",
    "There are many versions of Python that exist, and many versions of packages that exist. What does that mean for your work? "
   ]
  },
  {
   "cell_type": "markdown",
   "id": "1a5a86f2",
   "metadata": {
    "slideshow": {
     "slide_type": "slide"
    }
   },
   "source": [
    "# Happy Pythoning!!! "
   ]
  },
  {
   "cell_type": "code",
   "execution_count": null,
   "id": "933b9bc1",
   "metadata": {
    "slideshow": {
     "slide_type": "subslide"
    }
   },
   "outputs": [],
   "source": [
    "import antigravity"
   ]
  },
  {
   "cell_type": "code",
   "execution_count": null,
   "id": "3ce20e47",
   "metadata": {},
   "outputs": [],
   "source": []
  }
 ],
 "metadata": {
  "kernelspec": {
   "display_name": "Python 3 (ipykernel)",
   "language": "python",
   "name": "python3"
  },
  "language_info": {
   "codemirror_mode": {
    "name": "ipython",
    "version": 3
   },
   "file_extension": ".py",
   "mimetype": "text/x-python",
   "name": "python",
   "nbconvert_exporter": "python",
   "pygments_lexer": "ipython3",
   "version": "3.9.9"
  }
 },
 "nbformat": 4,
 "nbformat_minor": 5
}
